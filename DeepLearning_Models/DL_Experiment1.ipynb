{
  "cells": [
    {
      "cell_type": "code",
      "execution_count": null,
      "metadata": {
        "colab": {
          "base_uri": "https://localhost:8080/"
        },
        "id": "6Bd7i3VXoRTI",
        "outputId": "279b43a7-50ae-4de5-8bad-3764c7f35928"
      },
      "outputs": [
        {
          "output_type": "stream",
          "name": "stdout",
          "text": [
            "Collecting datasets\n",
            "  Downloading datasets-2.18.0-py3-none-any.whl (510 kB)\n",
            "\u001b[2K     \u001b[90m━━━━━━━━━━━━━━━━━━━━━━━━━━━━━━━━━━━━━━━━\u001b[0m \u001b[32m510.5/510.5 kB\u001b[0m \u001b[31m3.4 MB/s\u001b[0m eta \u001b[36m0:00:00\u001b[0m\n",
            "\u001b[?25hCollecting rouge_score\n",
            "  Downloading rouge_score-0.1.2.tar.gz (17 kB)\n",
            "  Preparing metadata (setup.py) ... \u001b[?25l\u001b[?25hdone\n",
            "Requirement already satisfied: filelock in /usr/local/lib/python3.10/dist-packages (from datasets) (3.13.4)\n",
            "Requirement already satisfied: numpy>=1.17 in /usr/local/lib/python3.10/dist-packages (from datasets) (1.25.2)\n",
            "Collecting pyarrow>=12.0.0 (from datasets)\n",
            "  Downloading pyarrow-15.0.2-cp310-cp310-manylinux_2_28_x86_64.whl (38.3 MB)\n",
            "\u001b[2K     \u001b[90m━━━━━━━━━━━━━━━━━━━━━━━━━━━━━━━━━━━━━━━━\u001b[0m \u001b[32m38.3/38.3 MB\u001b[0m \u001b[31m26.5 MB/s\u001b[0m eta \u001b[36m0:00:00\u001b[0m\n",
            "\u001b[?25hCollecting pyarrow-hotfix (from datasets)\n",
            "  Downloading pyarrow_hotfix-0.6-py3-none-any.whl (7.9 kB)\n",
            "Collecting dill<0.3.9,>=0.3.0 (from datasets)\n",
            "  Downloading dill-0.3.8-py3-none-any.whl (116 kB)\n",
            "\u001b[2K     \u001b[90m━━━━━━━━━━━━━━━━━━━━━━━━━━━━━━━━━━━━━━━━\u001b[0m \u001b[32m116.3/116.3 kB\u001b[0m \u001b[31m11.7 MB/s\u001b[0m eta \u001b[36m0:00:00\u001b[0m\n",
            "\u001b[?25hRequirement already satisfied: pandas in /usr/local/lib/python3.10/dist-packages (from datasets) (2.0.3)\n",
            "Requirement already satisfied: requests>=2.19.0 in /usr/local/lib/python3.10/dist-packages (from datasets) (2.31.0)\n",
            "Requirement already satisfied: tqdm>=4.62.1 in /usr/local/lib/python3.10/dist-packages (from datasets) (4.66.2)\n",
            "Collecting xxhash (from datasets)\n",
            "  Downloading xxhash-3.4.1-cp310-cp310-manylinux_2_17_x86_64.manylinux2014_x86_64.whl (194 kB)\n",
            "\u001b[2K     \u001b[90m━━━━━━━━━━━━━━━━━━━━━━━━━━━━━━━━━━━━━━━━\u001b[0m \u001b[32m194.1/194.1 kB\u001b[0m \u001b[31m17.1 MB/s\u001b[0m eta \u001b[36m0:00:00\u001b[0m\n",
            "\u001b[?25hCollecting multiprocess (from datasets)\n",
            "  Downloading multiprocess-0.70.16-py310-none-any.whl (134 kB)\n",
            "\u001b[2K     \u001b[90m━━━━━━━━━━━━━━━━━━━━━━━━━━━━━━━━━━━━━━━━\u001b[0m \u001b[32m134.8/134.8 kB\u001b[0m \u001b[31m14.8 MB/s\u001b[0m eta \u001b[36m0:00:00\u001b[0m\n",
            "\u001b[?25hCollecting fsspec[http]<=2024.2.0,>=2023.1.0 (from datasets)\n",
            "  Downloading fsspec-2024.2.0-py3-none-any.whl (170 kB)\n",
            "\u001b[2K     \u001b[90m━━━━━━━━━━━━━━━━━━━━━━━━━━━━━━━━━━━━━━━━\u001b[0m \u001b[32m170.9/170.9 kB\u001b[0m \u001b[31m18.5 MB/s\u001b[0m eta \u001b[36m0:00:00\u001b[0m\n",
            "\u001b[?25hCollecting aiohttp (from datasets)\n",
            "  Downloading aiohttp-3.9.5-cp310-cp310-manylinux_2_17_x86_64.manylinux2014_x86_64.whl (1.2 MB)\n",
            "\u001b[2K     \u001b[90m━━━━━━━━━━━━━━━━━━━━━━━━━━━━━━━━━━━━━━━━\u001b[0m \u001b[32m1.2/1.2 MB\u001b[0m \u001b[31m53.7 MB/s\u001b[0m eta \u001b[36m0:00:00\u001b[0m\n",
            "\u001b[?25hRequirement already satisfied: huggingface-hub>=0.19.4 in /usr/local/lib/python3.10/dist-packages (from datasets) (0.20.3)\n",
            "Requirement already satisfied: packaging in /usr/local/lib/python3.10/dist-packages (from datasets) (24.0)\n",
            "Requirement already satisfied: pyyaml>=5.1 in /usr/local/lib/python3.10/dist-packages (from datasets) (6.0.1)\n",
            "Requirement already satisfied: absl-py in /usr/local/lib/python3.10/dist-packages (from rouge_score) (1.4.0)\n",
            "Requirement already satisfied: nltk in /usr/local/lib/python3.10/dist-packages (from rouge_score) (3.8.1)\n",
            "Requirement already satisfied: six>=1.14.0 in /usr/local/lib/python3.10/dist-packages (from rouge_score) (1.16.0)\n",
            "Collecting aiosignal>=1.1.2 (from aiohttp->datasets)\n",
            "  Downloading aiosignal-1.3.1-py3-none-any.whl (7.6 kB)\n",
            "Requirement already satisfied: attrs>=17.3.0 in /usr/local/lib/python3.10/dist-packages (from aiohttp->datasets) (23.2.0)\n",
            "Collecting frozenlist>=1.1.1 (from aiohttp->datasets)\n",
            "  Downloading frozenlist-1.4.1-cp310-cp310-manylinux_2_5_x86_64.manylinux1_x86_64.manylinux_2_17_x86_64.manylinux2014_x86_64.whl (239 kB)\n",
            "\u001b[2K     \u001b[90m━━━━━━━━━━━━━━━━━━━━━━━━━━━━━━━━━━━━━━━━\u001b[0m \u001b[32m239.5/239.5 kB\u001b[0m \u001b[31m22.6 MB/s\u001b[0m eta \u001b[36m0:00:00\u001b[0m\n",
            "\u001b[?25hCollecting multidict<7.0,>=4.5 (from aiohttp->datasets)\n",
            "  Downloading multidict-6.0.5-cp310-cp310-manylinux_2_17_x86_64.manylinux2014_x86_64.whl (124 kB)\n",
            "\u001b[2K     \u001b[90m━━━━━━━━━━━━━━━━━━━━━━━━━━━━━━━━━━━━━━━━\u001b[0m \u001b[32m124.3/124.3 kB\u001b[0m \u001b[31m12.3 MB/s\u001b[0m eta \u001b[36m0:00:00\u001b[0m\n",
            "\u001b[?25hCollecting yarl<2.0,>=1.0 (from aiohttp->datasets)\n",
            "  Downloading yarl-1.9.4-cp310-cp310-manylinux_2_17_x86_64.manylinux2014_x86_64.whl (301 kB)\n",
            "\u001b[2K     \u001b[90m━━━━━━━━━━━━━━━━━━━━━━━━━━━━━━━━━━━━━━━━\u001b[0m \u001b[32m301.6/301.6 kB\u001b[0m \u001b[31m26.5 MB/s\u001b[0m eta \u001b[36m0:00:00\u001b[0m\n",
            "\u001b[?25hCollecting async-timeout<5.0,>=4.0 (from aiohttp->datasets)\n",
            "  Downloading async_timeout-4.0.3-py3-none-any.whl (5.7 kB)\n",
            "Requirement already satisfied: typing-extensions>=3.7.4.3 in /usr/local/lib/python3.10/dist-packages (from huggingface-hub>=0.19.4->datasets) (4.11.0)\n",
            "Requirement already satisfied: charset-normalizer<4,>=2 in /usr/local/lib/python3.10/dist-packages (from requests>=2.19.0->datasets) (3.3.2)\n",
            "Requirement already satisfied: idna<4,>=2.5 in /usr/local/lib/python3.10/dist-packages (from requests>=2.19.0->datasets) (3.7)\n",
            "Requirement already satisfied: urllib3<3,>=1.21.1 in /usr/local/lib/python3.10/dist-packages (from requests>=2.19.0->datasets) (2.0.7)\n",
            "Requirement already satisfied: certifi>=2017.4.17 in /usr/local/lib/python3.10/dist-packages (from requests>=2.19.0->datasets) (2024.2.2)\n",
            "Requirement already satisfied: click in /usr/local/lib/python3.10/dist-packages (from nltk->rouge_score) (8.1.7)\n",
            "Requirement already satisfied: joblib in /usr/local/lib/python3.10/dist-packages (from nltk->rouge_score) (1.4.0)\n",
            "Requirement already satisfied: regex>=2021.8.3 in /usr/local/lib/python3.10/dist-packages (from nltk->rouge_score) (2024.4.16)\n",
            "Requirement already satisfied: python-dateutil>=2.8.2 in /usr/local/lib/python3.10/dist-packages (from pandas->datasets) (2.9.0.post0)\n",
            "Requirement already satisfied: pytz>=2020.1 in /usr/local/lib/python3.10/dist-packages (from pandas->datasets) (2024.1)\n",
            "Requirement already satisfied: tzdata>=2022.1 in /usr/local/lib/python3.10/dist-packages (from pandas->datasets) (2024.1)\n",
            "Building wheels for collected packages: rouge_score\n",
            "  Building wheel for rouge_score (setup.py) ... \u001b[?25l\u001b[?25hdone\n",
            "  Created wheel for rouge_score: filename=rouge_score-0.1.2-py3-none-any.whl size=24933 sha256=b779fb8d80bdf7984df29308e230628d4db536992ed980c69791a8421f435c35\n",
            "  Stored in directory: /root/.cache/pip/wheels/5f/dd/89/461065a73be61a532ff8599a28e9beef17985c9e9c31e541b4\n",
            "Successfully built rouge_score\n",
            "Installing collected packages: xxhash, pyarrow-hotfix, pyarrow, multidict, fsspec, frozenlist, dill, async-timeout, yarl, rouge_score, multiprocess, aiosignal, aiohttp, datasets\n",
            "  Attempting uninstall: fsspec\n",
            "    Found existing installation: fsspec 2024.3.1\n",
            "    Uninstalling fsspec-2024.3.1:\n",
            "      Successfully uninstalled fsspec-2024.3.1\n",
            "Successfully installed aiohttp-3.9.5 aiosignal-1.3.1 async-timeout-4.0.3 datasets-2.18.0 dill-0.3.8 frozenlist-1.4.1 fsspec-2024.2.0 multidict-6.0.5 multiprocess-0.70.16 pyarrow-15.0.2 pyarrow-hotfix-0.6 rouge_score-0.1.2 xxhash-3.4.1 yarl-1.9.4\n"
          ]
        }
      ],
      "source": [
        "!pip install datasets rouge_score\n"
      ]
    },
    {
      "cell_type": "code",
      "execution_count": null,
      "metadata": {
        "id": "o5_CsTgfoRTI"
      },
      "outputs": [],
      "source": [
        "import numpy as np\n",
        "import gensim.downloader as api\n",
        "from tensorflow.keras.models import Model\n",
        "from tensorflow.keras.layers import Input, LSTM, Dense, Embedding, GRU, Bidirectional, Conv1D, MaxPooling1D, TimeDistributed, Concatenate\n",
        "from tensorflow.keras.preprocessing.sequence import pad_sequences\n",
        "from tensorflow.keras.preprocessing.text import Tokenizer\n",
        "from datasets import load_dataset\n",
        "from tensorflow.keras.callbacks import ModelCheckpoint\n",
        "from tensorflow.keras.utils import plot_model\n",
        "import matplotlib.pyplot as plt\n",
        "from tensorflow.keras.optimizers import Adam\n",
        "from tensorflow.keras.utils import to_categorical\n",
        "from tensorflow.keras.losses import sparse_categorical_crossentropy"
      ]
    },
    {
      "cell_type": "code",
      "execution_count": null,
      "metadata": {
        "id": "h9sTL3LjoRTI"
      },
      "outputs": [],
      "source": []
    },
    {
      "cell_type": "code",
      "execution_count": null,
      "metadata": {
        "id": "CCn1ObkMoRTI"
      },
      "outputs": [],
      "source": [
        "# Parameters\n",
        "max_len_input = 100\n",
        "max_len_target = 50\n",
        "latent_dim = 256\n",
        "embedding_dim = 300  # As per Word2Vec dimensions\n",
        "dataset_name = \"allenai/multinews_dense_oracle\"\n",
        "batch_size = 64\n",
        "epochs = 10\n"
      ]
    },
    {
      "cell_type": "code",
      "execution_count": null,
      "metadata": {
        "colab": {
          "base_uri": "https://localhost:8080/",
          "height": 246,
          "referenced_widgets": [
            "6512de43768d49c38e90c5423a22d99c",
            "fdac7a61a3e44665ab6ce344ed89a7cb",
            "87bb0e3188ee4fed8e0f4ea8e8bd8f4b",
            "a35ac5cc703948a787f0c1ae90085cea",
            "4e1ed4762d4847e6aef9ed1af6d7e8e0",
            "336c1e856e7e4ee9a38a888e68109503",
            "0503c205544642e9bc46c1d624a037ea",
            "b05cb52562234656a90cb1251df2023b",
            "e8506cb44ac946c5b816e0a5446b29fe",
            "39cc6b0ef91a4f5494f3eb8ddcbc5adc",
            "3cafa3b2db8b4bbd8f885f0691f16dce",
            "3131ea177e6f4a17b970cd2d06969767",
            "74d0716367bb4efdb50ac3c0bb9c110c",
            "1c9a2a1ce75347f4a9b8d1b5bde2811b",
            "719706807b99484bb2cad411ca6b4dd2",
            "ae35a64526f7436383330a0bbdf6b946",
            "6b5028a8028f413f8d898f89e0a49bc4",
            "b4ad9b472eef472d97c7f1aa529e7c56",
            "a020b69227004d508874176e1b586f5b",
            "812b643f5b834213896d379d333bd0ac",
            "6e107f0e0d3f43e28db9caa0b6d8ec3a",
            "c6554a5c30fe4f03b39982967dbeb975",
            "a286ffa9a63744bca012c41250443f17",
            "c534750f4749417a90e7a5ccedc092e3",
            "1a975a6d494e403a86dce12be91f9f6b",
            "2eb876ed98d84e3b839bd9499b3e74b0",
            "419c9b747a8c47f8ada58920b6f75218",
            "f9a18c6544974faf850de459f615d5c3",
            "592533137d8d441fab022d1bbdac525a",
            "ab503d69f9b34422a60e64efd4afb1bf",
            "6b4b0c3a717d40b9a0bb80c8bdc8c9fe",
            "3a27fcbacb8746a09df00a43d3a92511",
            "5b2c40a4b46743b7b3a3c99783f73f20",
            "4afda05204264c29a0533c493598c8a7",
            "6c1bbef59d6b4f08adb8661f24a25e15",
            "ea7c58c41fd8468cb98e9ed31ead48e2",
            "d21004c93b1a4f4d83f80eb91de96f3a",
            "3f25c9ad76a44ac88de9525f5641162c",
            "6f3e7bb1f7b94aa1a3725f169f25e119",
            "cf203461f7064007a20c1b2a0709092b",
            "389867d4b48b4752a0ec5a4a86da11f7",
            "4d5878d4c57c47fca2f62d2c6e846305",
            "598987a470cd4993b577b0755b6eb340",
            "22396a2e4e144472976f234662a48abb",
            "7c3af02ad18545f59d3e260a388092eb",
            "7b6b58349c7d4cc5b2254191c7fc01b3",
            "c140591997544f8a85953d1a711f7589",
            "6a89c15b18fb4b59bfb29673b6f1f9a9",
            "c1fda5e557a041929ffdbd8d71588ce7",
            "b1febb17d24a476e8555ae18c0da82a2",
            "f117dd61a8944dfb989a295904d1d8b2",
            "714ab835c5804c37a19c49e5e96eec8d",
            "d6136231d4c04f0b9b613df5059d724f",
            "bfa8c5b1848749d3b4fe739f9a06c063",
            "5b567fe341b94561b70c7fc6189cc21a"
          ]
        },
        "id": "hWIHRb35oRTI",
        "outputId": "62f715d7-8b0e-4007-dfc2-cf2c2d96f657"
      },
      "outputs": [
        {
          "output_type": "display_data",
          "data": {
            "text/plain": [
              "Downloading readme:   0%|          | 0.00/1.84k [00:00<?, ?B/s]"
            ],
            "application/vnd.jupyter.widget-view+json": {
              "version_major": 2,
              "version_minor": 0,
              "model_id": "6512de43768d49c38e90c5423a22d99c"
            }
          },
          "metadata": {}
        },
        {
          "output_type": "display_data",
          "data": {
            "text/plain": [
              "Downloading metadata:   0%|          | 0.00/1.79k [00:00<?, ?B/s]"
            ],
            "application/vnd.jupyter.widget-view+json": {
              "version_major": 2,
              "version_minor": 0,
              "model_id": "3131ea177e6f4a17b970cd2d06969767"
            }
          },
          "metadata": {}
        },
        {
          "output_type": "stream",
          "name": "stderr",
          "text": [
            "Downloading data: 100%|██████████| 179M/179M [00:06<00:00, 26.6MB/s]\n",
            "Downloading data: 100%|██████████| 174M/174M [00:07<00:00, 24.5MB/s]\n",
            "Downloading data: 100%|██████████| 43.5M/43.5M [00:01<00:00, 29.9MB/s]\n",
            "Downloading data: 100%|██████████| 43.4M/43.4M [00:02<00:00, 21.1MB/s]\n"
          ]
        },
        {
          "output_type": "display_data",
          "data": {
            "text/plain": [
              "Generating train split:   0%|          | 0/44972 [00:00<?, ? examples/s]"
            ],
            "application/vnd.jupyter.widget-view+json": {
              "version_major": 2,
              "version_minor": 0,
              "model_id": "a286ffa9a63744bca012c41250443f17"
            }
          },
          "metadata": {}
        },
        {
          "output_type": "display_data",
          "data": {
            "text/plain": [
              "Generating validation split:   0%|          | 0/5622 [00:00<?, ? examples/s]"
            ],
            "application/vnd.jupyter.widget-view+json": {
              "version_major": 2,
              "version_minor": 0,
              "model_id": "4afda05204264c29a0533c493598c8a7"
            }
          },
          "metadata": {}
        },
        {
          "output_type": "display_data",
          "data": {
            "text/plain": [
              "Generating test split:   0%|          | 0/5622 [00:00<?, ? examples/s]"
            ],
            "application/vnd.jupyter.widget-view+json": {
              "version_major": 2,
              "version_minor": 0,
              "model_id": "7c3af02ad18545f59d3e260a388092eb"
            }
          },
          "metadata": {}
        }
      ],
      "source": [
        "# Load datasets\n",
        "dataset = load_dataset(dataset_name)\n",
        "dataset_train = dataset['train'].select(range(1000))  # Using smaller data for example\n",
        "dataset_val = dataset['validation'].select(range(1000))\n",
        "dataset_test = dataset['test'].select(range(1000))"
      ]
    },
    {
      "cell_type": "code",
      "execution_count": null,
      "metadata": {
        "colab": {
          "base_uri": "https://localhost:8080/"
        },
        "id": "G5bOnyO6oRTI",
        "outputId": "b6fa238e-0c80-475d-8beb-09309adbb329"
      },
      "outputs": [
        {
          "output_type": "stream",
          "name": "stdout",
          "text": [
            "(1000, 2)\n"
          ]
        }
      ],
      "source": [
        "print(dataset_train.shape)"
      ]
    },
    {
      "cell_type": "code",
      "execution_count": null,
      "metadata": {
        "id": "rY-YgxIioRTJ"
      },
      "outputs": [],
      "source": [
        "# Prepare data\n",
        "def prepare_data(dataset):\n",
        "    input_texts = [str(data['document']) for data in dataset]\n",
        "    target_texts = [\"\\t \" + str(data['summary']) + \" \\n\" for data in dataset]\n",
        "    return input_texts, target_texts"
      ]
    },
    {
      "cell_type": "code",
      "execution_count": null,
      "metadata": {
        "id": "oYnSDOXXoRTJ"
      },
      "outputs": [],
      "source": [
        "train_input_texts, train_target_texts = prepare_data(dataset_train)\n",
        "val_input_texts, val_target_texts = prepare_data(dataset_val)\n",
        "test_input_texts, test_target_texts = prepare_data(dataset_test)"
      ]
    },
    {
      "cell_type": "code",
      "execution_count": null,
      "metadata": {
        "id": "enHv_D54oRTJ"
      },
      "outputs": [],
      "source": [
        "# Tokenization\n",
        "tokenizer = Tokenizer()\n",
        "tokenizer.fit_on_texts(train_input_texts + train_target_texts + val_input_texts + val_target_texts)\n",
        "vocab_size = len(tokenizer.word_index) + 1\n"
      ]
    },
    {
      "cell_type": "code",
      "execution_count": null,
      "metadata": {
        "colab": {
          "base_uri": "https://localhost:8080/"
        },
        "id": "Y-ehe8h8oRTJ",
        "outputId": "c0e068c7-c562-4a8c-a8ab-e3cb3efe9b41"
      },
      "outputs": [
        {
          "output_type": "stream",
          "name": "stdout",
          "text": [
            "100346\n"
          ]
        }
      ],
      "source": [
        "print(vocab_size)"
      ]
    },
    {
      "cell_type": "code",
      "execution_count": null,
      "metadata": {
        "colab": {
          "base_uri": "https://localhost:8080/"
        },
        "id": "BC8smgm4oRTJ",
        "outputId": "609ece67-fb70-4170-c786-0b3ea8b1f8e4"
      },
      "outputs": [
        {
          "output_type": "stream",
          "name": "stdout",
          "text": [
            "[======--------------------------------------------] 13.9% 231.7/1662.8MB downloaded"
          ]
        },
        {
          "output_type": "stream",
          "name": "stderr",
          "text": [
            "IOPub message rate exceeded.\n",
            "The notebook server will temporarily stop sending output\n",
            "to the client in order to avoid crashing it.\n",
            "To change this limit, set the config variable\n",
            "`--NotebookApp.iopub_msg_rate_limit`.\n",
            "\n",
            "Current values:\n",
            "NotebookApp.iopub_msg_rate_limit=1000.0 (msgs/sec)\n",
            "NotebookApp.rate_limit_window=3.0 (secs)\n",
            "\n"
          ]
        },
        {
          "output_type": "stream",
          "name": "stdout",
          "text": [
            "[=======-------------------------------------------] 15.6% 260.1/1662.8MB downloaded"
          ]
        },
        {
          "output_type": "stream",
          "name": "stderr",
          "text": [
            "IOPub message rate exceeded.\n",
            "The notebook server will temporarily stop sending output\n",
            "to the client in order to avoid crashing it.\n",
            "To change this limit, set the config variable\n",
            "`--NotebookApp.iopub_msg_rate_limit`.\n",
            "\n",
            "Current values:\n",
            "NotebookApp.iopub_msg_rate_limit=1000.0 (msgs/sec)\n",
            "NotebookApp.rate_limit_window=3.0 (secs)\n",
            "\n"
          ]
        },
        {
          "output_type": "stream",
          "name": "stdout",
          "text": [
            "[=========-----------------------------------------] 19.0% 315.9/1662.8MB downloaded"
          ]
        },
        {
          "output_type": "stream",
          "name": "stderr",
          "text": [
            "IOPub message rate exceeded.\n",
            "The notebook server will temporarily stop sending output\n",
            "to the client in order to avoid crashing it.\n",
            "To change this limit, set the config variable\n",
            "`--NotebookApp.iopub_msg_rate_limit`.\n",
            "\n",
            "Current values:\n",
            "NotebookApp.iopub_msg_rate_limit=1000.0 (msgs/sec)\n",
            "NotebookApp.rate_limit_window=3.0 (secs)\n",
            "\n"
          ]
        },
        {
          "output_type": "stream",
          "name": "stdout",
          "text": [
            "[==========----------------------------------------] 20.7% 344.7/1662.8MB downloaded"
          ]
        },
        {
          "output_type": "stream",
          "name": "stderr",
          "text": [
            "IOPub message rate exceeded.\n",
            "The notebook server will temporarily stop sending output\n",
            "to the client in order to avoid crashing it.\n",
            "To change this limit, set the config variable\n",
            "`--NotebookApp.iopub_msg_rate_limit`.\n",
            "\n",
            "Current values:\n",
            "NotebookApp.iopub_msg_rate_limit=1000.0 (msgs/sec)\n",
            "NotebookApp.rate_limit_window=3.0 (secs)\n",
            "\n"
          ]
        },
        {
          "output_type": "stream",
          "name": "stdout",
          "text": [
            "[===========---------------------------------------] 22.5% 374.6/1662.8MB downloaded"
          ]
        },
        {
          "output_type": "stream",
          "name": "stderr",
          "text": [
            "IOPub message rate exceeded.\n",
            "The notebook server will temporarily stop sending output\n",
            "to the client in order to avoid crashing it.\n",
            "To change this limit, set the config variable\n",
            "`--NotebookApp.iopub_msg_rate_limit`.\n",
            "\n",
            "Current values:\n",
            "NotebookApp.iopub_msg_rate_limit=1000.0 (msgs/sec)\n",
            "NotebookApp.rate_limit_window=3.0 (secs)\n",
            "\n"
          ]
        },
        {
          "output_type": "stream",
          "name": "stdout",
          "text": [
            "[============--------------------------------------] 24.3% 403.4/1662.8MB downloaded"
          ]
        },
        {
          "output_type": "stream",
          "name": "stderr",
          "text": [
            "IOPub message rate exceeded.\n",
            "The notebook server will temporarily stop sending output\n",
            "to the client in order to avoid crashing it.\n",
            "To change this limit, set the config variable\n",
            "`--NotebookApp.iopub_msg_rate_limit`.\n",
            "\n",
            "Current values:\n",
            "NotebookApp.iopub_msg_rate_limit=1000.0 (msgs/sec)\n",
            "NotebookApp.rate_limit_window=3.0 (secs)\n",
            "\n"
          ]
        },
        {
          "output_type": "stream",
          "name": "stdout",
          "text": [
            "[=============-------------------------------------] 26.0% 432.5/1662.8MB downloaded"
          ]
        },
        {
          "output_type": "stream",
          "name": "stderr",
          "text": [
            "IOPub message rate exceeded.\n",
            "The notebook server will temporarily stop sending output\n",
            "to the client in order to avoid crashing it.\n",
            "To change this limit, set the config variable\n",
            "`--NotebookApp.iopub_msg_rate_limit`.\n",
            "\n",
            "Current values:\n",
            "NotebookApp.iopub_msg_rate_limit=1000.0 (msgs/sec)\n",
            "NotebookApp.rate_limit_window=3.0 (secs)\n",
            "\n"
          ]
        },
        {
          "output_type": "stream",
          "name": "stdout",
          "text": [
            "[=============-------------------------------------] 27.7% 461.3/1662.8MB downloaded"
          ]
        },
        {
          "output_type": "stream",
          "name": "stderr",
          "text": [
            "IOPub message rate exceeded.\n",
            "The notebook server will temporarily stop sending output\n",
            "to the client in order to avoid crashing it.\n",
            "To change this limit, set the config variable\n",
            "`--NotebookApp.iopub_msg_rate_limit`.\n",
            "\n",
            "Current values:\n",
            "NotebookApp.iopub_msg_rate_limit=1000.0 (msgs/sec)\n",
            "NotebookApp.rate_limit_window=3.0 (secs)\n",
            "\n"
          ]
        },
        {
          "output_type": "stream",
          "name": "stdout",
          "text": [
            "[==============------------------------------------] 29.8% 495.1/1662.8MB downloaded"
          ]
        },
        {
          "output_type": "stream",
          "name": "stderr",
          "text": [
            "IOPub message rate exceeded.\n",
            "The notebook server will temporarily stop sending output\n",
            "to the client in order to avoid crashing it.\n",
            "To change this limit, set the config variable\n",
            "`--NotebookApp.iopub_msg_rate_limit`.\n",
            "\n",
            "Current values:\n",
            "NotebookApp.iopub_msg_rate_limit=1000.0 (msgs/sec)\n",
            "NotebookApp.rate_limit_window=3.0 (secs)\n",
            "\n"
          ]
        },
        {
          "output_type": "stream",
          "name": "stdout",
          "text": [
            "[===============-----------------------------------] 31.5% 523.7/1662.8MB downloaded"
          ]
        },
        {
          "output_type": "stream",
          "name": "stderr",
          "text": [
            "IOPub message rate exceeded.\n",
            "The notebook server will temporarily stop sending output\n",
            "to the client in order to avoid crashing it.\n",
            "To change this limit, set the config variable\n",
            "`--NotebookApp.iopub_msg_rate_limit`.\n",
            "\n",
            "Current values:\n",
            "NotebookApp.iopub_msg_rate_limit=1000.0 (msgs/sec)\n",
            "NotebookApp.rate_limit_window=3.0 (secs)\n",
            "\n"
          ]
        },
        {
          "output_type": "stream",
          "name": "stdout",
          "text": [
            "[================----------------------------------] 33.2% 552.2/1662.8MB downloaded"
          ]
        },
        {
          "output_type": "stream",
          "name": "stderr",
          "text": [
            "IOPub message rate exceeded.\n",
            "The notebook server will temporarily stop sending output\n",
            "to the client in order to avoid crashing it.\n",
            "To change this limit, set the config variable\n",
            "`--NotebookApp.iopub_msg_rate_limit`.\n",
            "\n",
            "Current values:\n",
            "NotebookApp.iopub_msg_rate_limit=1000.0 (msgs/sec)\n",
            "NotebookApp.rate_limit_window=3.0 (secs)\n",
            "\n"
          ]
        },
        {
          "output_type": "stream",
          "name": "stdout",
          "text": [
            "[=================---------------------------------] 35.0% 581.3/1662.8MB downloaded"
          ]
        },
        {
          "output_type": "stream",
          "name": "stderr",
          "text": [
            "IOPub message rate exceeded.\n",
            "The notebook server will temporarily stop sending output\n",
            "to the client in order to avoid crashing it.\n",
            "To change this limit, set the config variable\n",
            "`--NotebookApp.iopub_msg_rate_limit`.\n",
            "\n",
            "Current values:\n",
            "NotebookApp.iopub_msg_rate_limit=1000.0 (msgs/sec)\n",
            "NotebookApp.rate_limit_window=3.0 (secs)\n",
            "\n"
          ]
        },
        {
          "output_type": "stream",
          "name": "stdout",
          "text": [
            "[==================--------------------------------] 36.7% 610.0/1662.8MB downloaded"
          ]
        },
        {
          "output_type": "stream",
          "name": "stderr",
          "text": [
            "IOPub message rate exceeded.\n",
            "The notebook server will temporarily stop sending output\n",
            "to the client in order to avoid crashing it.\n",
            "To change this limit, set the config variable\n",
            "`--NotebookApp.iopub_msg_rate_limit`.\n",
            "\n",
            "Current values:\n",
            "NotebookApp.iopub_msg_rate_limit=1000.0 (msgs/sec)\n",
            "NotebookApp.rate_limit_window=3.0 (secs)\n",
            "\n"
          ]
        },
        {
          "output_type": "stream",
          "name": "stdout",
          "text": [
            "[===================-------------------------------] 38.5% 640.1/1662.8MB downloaded"
          ]
        },
        {
          "output_type": "stream",
          "name": "stderr",
          "text": [
            "IOPub message rate exceeded.\n",
            "The notebook server will temporarily stop sending output\n",
            "to the client in order to avoid crashing it.\n",
            "To change this limit, set the config variable\n",
            "`--NotebookApp.iopub_msg_rate_limit`.\n",
            "\n",
            "Current values:\n",
            "NotebookApp.iopub_msg_rate_limit=1000.0 (msgs/sec)\n",
            "NotebookApp.rate_limit_window=3.0 (secs)\n",
            "\n"
          ]
        },
        {
          "output_type": "stream",
          "name": "stdout",
          "text": [
            "[====================------------------------------] 40.3% 669.8/1662.8MB downloaded"
          ]
        },
        {
          "output_type": "stream",
          "name": "stderr",
          "text": [
            "IOPub message rate exceeded.\n",
            "The notebook server will temporarily stop sending output\n",
            "to the client in order to avoid crashing it.\n",
            "To change this limit, set the config variable\n",
            "`--NotebookApp.iopub_msg_rate_limit`.\n",
            "\n",
            "Current values:\n",
            "NotebookApp.iopub_msg_rate_limit=1000.0 (msgs/sec)\n",
            "NotebookApp.rate_limit_window=3.0 (secs)\n",
            "\n"
          ]
        },
        {
          "output_type": "stream",
          "name": "stdout",
          "text": [
            "[=====================-----------------------------] 42.0% 698.9/1662.8MB downloaded"
          ]
        },
        {
          "output_type": "stream",
          "name": "stderr",
          "text": [
            "IOPub message rate exceeded.\n",
            "The notebook server will temporarily stop sending output\n",
            "to the client in order to avoid crashing it.\n",
            "To change this limit, set the config variable\n",
            "`--NotebookApp.iopub_msg_rate_limit`.\n",
            "\n",
            "Current values:\n",
            "NotebookApp.iopub_msg_rate_limit=1000.0 (msgs/sec)\n",
            "NotebookApp.rate_limit_window=3.0 (secs)\n",
            "\n"
          ]
        },
        {
          "output_type": "stream",
          "name": "stdout",
          "text": [
            "[=====================-----------------------------] 43.8% 728.5/1662.8MB downloaded"
          ]
        },
        {
          "output_type": "stream",
          "name": "stderr",
          "text": [
            "IOPub message rate exceeded.\n",
            "The notebook server will temporarily stop sending output\n",
            "to the client in order to avoid crashing it.\n",
            "To change this limit, set the config variable\n",
            "`--NotebookApp.iopub_msg_rate_limit`.\n",
            "\n",
            "Current values:\n",
            "NotebookApp.iopub_msg_rate_limit=1000.0 (msgs/sec)\n",
            "NotebookApp.rate_limit_window=3.0 (secs)\n",
            "\n"
          ]
        },
        {
          "output_type": "stream",
          "name": "stdout",
          "text": [
            "[======================----------------------------] 45.6% 757.9/1662.8MB downloaded"
          ]
        },
        {
          "output_type": "stream",
          "name": "stderr",
          "text": [
            "IOPub message rate exceeded.\n",
            "The notebook server will temporarily stop sending output\n",
            "to the client in order to avoid crashing it.\n",
            "To change this limit, set the config variable\n",
            "`--NotebookApp.iopub_msg_rate_limit`.\n",
            "\n",
            "Current values:\n",
            "NotebookApp.iopub_msg_rate_limit=1000.0 (msgs/sec)\n",
            "NotebookApp.rate_limit_window=3.0 (secs)\n",
            "\n"
          ]
        },
        {
          "output_type": "stream",
          "name": "stdout",
          "text": [
            "[========================--------------------------] 48.1% 799.5/1662.8MB downloaded"
          ]
        },
        {
          "output_type": "stream",
          "name": "stderr",
          "text": [
            "IOPub message rate exceeded.\n",
            "The notebook server will temporarily stop sending output\n",
            "to the client in order to avoid crashing it.\n",
            "To change this limit, set the config variable\n",
            "`--NotebookApp.iopub_msg_rate_limit`.\n",
            "\n",
            "Current values:\n",
            "NotebookApp.iopub_msg_rate_limit=1000.0 (msgs/sec)\n",
            "NotebookApp.rate_limit_window=3.0 (secs)\n",
            "\n"
          ]
        },
        {
          "output_type": "stream",
          "name": "stdout",
          "text": [
            "[========================--------------------------] 49.8% 828.0/1662.8MB downloaded"
          ]
        },
        {
          "output_type": "stream",
          "name": "stderr",
          "text": [
            "IOPub message rate exceeded.\n",
            "The notebook server will temporarily stop sending output\n",
            "to the client in order to avoid crashing it.\n",
            "To change this limit, set the config variable\n",
            "`--NotebookApp.iopub_msg_rate_limit`.\n",
            "\n",
            "Current values:\n",
            "NotebookApp.iopub_msg_rate_limit=1000.0 (msgs/sec)\n",
            "NotebookApp.rate_limit_window=3.0 (secs)\n",
            "\n"
          ]
        },
        {
          "output_type": "stream",
          "name": "stdout",
          "text": [
            "[=========================-------------------------] 51.5% 856.5/1662.8MB downloaded"
          ]
        },
        {
          "output_type": "stream",
          "name": "stderr",
          "text": [
            "IOPub message rate exceeded.\n",
            "The notebook server will temporarily stop sending output\n",
            "to the client in order to avoid crashing it.\n",
            "To change this limit, set the config variable\n",
            "`--NotebookApp.iopub_msg_rate_limit`.\n",
            "\n",
            "Current values:\n",
            "NotebookApp.iopub_msg_rate_limit=1000.0 (msgs/sec)\n",
            "NotebookApp.rate_limit_window=3.0 (secs)\n",
            "\n"
          ]
        },
        {
          "output_type": "stream",
          "name": "stdout",
          "text": [
            "[==========================------------------------] 53.2% 885.2/1662.8MB downloaded"
          ]
        },
        {
          "output_type": "stream",
          "name": "stderr",
          "text": [
            "IOPub message rate exceeded.\n",
            "The notebook server will temporarily stop sending output\n",
            "to the client in order to avoid crashing it.\n",
            "To change this limit, set the config variable\n",
            "`--NotebookApp.iopub_msg_rate_limit`.\n",
            "\n",
            "Current values:\n",
            "NotebookApp.iopub_msg_rate_limit=1000.0 (msgs/sec)\n",
            "NotebookApp.rate_limit_window=3.0 (secs)\n",
            "\n"
          ]
        },
        {
          "output_type": "stream",
          "name": "stdout",
          "text": [
            "[=============================---------------------] 58.9% 980.1/1662.8MB downloaded"
          ]
        },
        {
          "output_type": "stream",
          "name": "stderr",
          "text": [
            "IOPub message rate exceeded.\n",
            "The notebook server will temporarily stop sending output\n",
            "to the client in order to avoid crashing it.\n",
            "To change this limit, set the config variable\n",
            "`--NotebookApp.iopub_msg_rate_limit`.\n",
            "\n",
            "Current values:\n",
            "NotebookApp.iopub_msg_rate_limit=1000.0 (msgs/sec)\n",
            "NotebookApp.rate_limit_window=3.0 (secs)\n",
            "\n"
          ]
        },
        {
          "output_type": "stream",
          "name": "stdout",
          "text": [
            "[==============================--------------------] 60.7% 1008.5/1662.8MB downloaded"
          ]
        },
        {
          "output_type": "stream",
          "name": "stderr",
          "text": [
            "IOPub message rate exceeded.\n",
            "The notebook server will temporarily stop sending output\n",
            "to the client in order to avoid crashing it.\n",
            "To change this limit, set the config variable\n",
            "`--NotebookApp.iopub_msg_rate_limit`.\n",
            "\n",
            "Current values:\n",
            "NotebookApp.iopub_msg_rate_limit=1000.0 (msgs/sec)\n",
            "NotebookApp.rate_limit_window=3.0 (secs)\n",
            "\n"
          ]
        },
        {
          "output_type": "stream",
          "name": "stdout",
          "text": [
            "[===============================-------------------] 62.4% 1037.4/1662.8MB downloaded"
          ]
        },
        {
          "output_type": "stream",
          "name": "stderr",
          "text": [
            "IOPub message rate exceeded.\n",
            "The notebook server will temporarily stop sending output\n",
            "to the client in order to avoid crashing it.\n",
            "To change this limit, set the config variable\n",
            "`--NotebookApp.iopub_msg_rate_limit`.\n",
            "\n",
            "Current values:\n",
            "NotebookApp.iopub_msg_rate_limit=1000.0 (msgs/sec)\n",
            "NotebookApp.rate_limit_window=3.0 (secs)\n",
            "\n"
          ]
        },
        {
          "output_type": "stream",
          "name": "stdout",
          "text": [
            "[================================------------------] 64.1% 1066.2/1662.8MB downloaded"
          ]
        },
        {
          "output_type": "stream",
          "name": "stderr",
          "text": [
            "IOPub message rate exceeded.\n",
            "The notebook server will temporarily stop sending output\n",
            "to the client in order to avoid crashing it.\n",
            "To change this limit, set the config variable\n",
            "`--NotebookApp.iopub_msg_rate_limit`.\n",
            "\n",
            "Current values:\n",
            "NotebookApp.iopub_msg_rate_limit=1000.0 (msgs/sec)\n",
            "NotebookApp.rate_limit_window=3.0 (secs)\n",
            "\n"
          ]
        },
        {
          "output_type": "stream",
          "name": "stdout",
          "text": [
            "[================================------------------] 65.9% 1095.0/1662.8MB downloaded"
          ]
        },
        {
          "output_type": "stream",
          "name": "stderr",
          "text": [
            "IOPub message rate exceeded.\n",
            "The notebook server will temporarily stop sending output\n",
            "to the client in order to avoid crashing it.\n",
            "To change this limit, set the config variable\n",
            "`--NotebookApp.iopub_msg_rate_limit`.\n",
            "\n",
            "Current values:\n",
            "NotebookApp.iopub_msg_rate_limit=1000.0 (msgs/sec)\n",
            "NotebookApp.rate_limit_window=3.0 (secs)\n",
            "\n"
          ]
        },
        {
          "output_type": "stream",
          "name": "stdout",
          "text": [
            "[=================================-----------------] 67.6% 1124.3/1662.8MB downloaded"
          ]
        },
        {
          "output_type": "stream",
          "name": "stderr",
          "text": [
            "IOPub message rate exceeded.\n",
            "The notebook server will temporarily stop sending output\n",
            "to the client in order to avoid crashing it.\n",
            "To change this limit, set the config variable\n",
            "`--NotebookApp.iopub_msg_rate_limit`.\n",
            "\n",
            "Current values:\n",
            "NotebookApp.iopub_msg_rate_limit=1000.0 (msgs/sec)\n",
            "NotebookApp.rate_limit_window=3.0 (secs)\n",
            "\n"
          ]
        },
        {
          "output_type": "stream",
          "name": "stdout",
          "text": [
            "[==================================----------------] 69.4% 1154.0/1662.8MB downloaded"
          ]
        },
        {
          "output_type": "stream",
          "name": "stderr",
          "text": [
            "IOPub message rate exceeded.\n",
            "The notebook server will temporarily stop sending output\n",
            "to the client in order to avoid crashing it.\n",
            "To change this limit, set the config variable\n",
            "`--NotebookApp.iopub_msg_rate_limit`.\n",
            "\n",
            "Current values:\n",
            "NotebookApp.iopub_msg_rate_limit=1000.0 (msgs/sec)\n",
            "NotebookApp.rate_limit_window=3.0 (secs)\n",
            "\n"
          ]
        },
        {
          "output_type": "stream",
          "name": "stdout",
          "text": [
            "[=========================================---------] 83.9% 1394.4/1662.8MB downloaded"
          ]
        },
        {
          "output_type": "stream",
          "name": "stderr",
          "text": [
            "IOPub message rate exceeded.\n",
            "The notebook server will temporarily stop sending output\n",
            "to the client in order to avoid crashing it.\n",
            "To change this limit, set the config variable\n",
            "`--NotebookApp.iopub_msg_rate_limit`.\n",
            "\n",
            "Current values:\n",
            "NotebookApp.iopub_msg_rate_limit=1000.0 (msgs/sec)\n",
            "NotebookApp.rate_limit_window=3.0 (secs)\n",
            "\n"
          ]
        },
        {
          "output_type": "stream",
          "name": "stdout",
          "text": [
            "[=============================================-----] 91.7% 1524.1/1662.8MB downloaded"
          ]
        },
        {
          "output_type": "stream",
          "name": "stderr",
          "text": [
            "IOPub message rate exceeded.\n",
            "The notebook server will temporarily stop sending output\n",
            "to the client in order to avoid crashing it.\n",
            "To change this limit, set the config variable\n",
            "`--NotebookApp.iopub_msg_rate_limit`.\n",
            "\n",
            "Current values:\n",
            "NotebookApp.iopub_msg_rate_limit=1000.0 (msgs/sec)\n",
            "NotebookApp.rate_limit_window=3.0 (secs)\n",
            "\n"
          ]
        },
        {
          "output_type": "stream",
          "name": "stdout",
          "text": [
            "[==============================================----] 93.5% 1554.9/1662.8MB downloaded"
          ]
        },
        {
          "output_type": "stream",
          "name": "stderr",
          "text": [
            "IOPub message rate exceeded.\n",
            "The notebook server will temporarily stop sending output\n",
            "to the client in order to avoid crashing it.\n",
            "To change this limit, set the config variable\n",
            "`--NotebookApp.iopub_msg_rate_limit`.\n",
            "\n",
            "Current values:\n",
            "NotebookApp.iopub_msg_rate_limit=1000.0 (msgs/sec)\n",
            "NotebookApp.rate_limit_window=3.0 (secs)\n",
            "\n"
          ]
        },
        {
          "output_type": "stream",
          "name": "stdout",
          "text": [
            "[===============================================---] 95.2% 1583.2/1662.8MB downloaded"
          ]
        },
        {
          "output_type": "stream",
          "name": "stderr",
          "text": [
            "IOPub message rate exceeded.\n",
            "The notebook server will temporarily stop sending output\n",
            "to the client in order to avoid crashing it.\n",
            "To change this limit, set the config variable\n",
            "`--NotebookApp.iopub_msg_rate_limit`.\n",
            "\n",
            "Current values:\n",
            "NotebookApp.iopub_msg_rate_limit=1000.0 (msgs/sec)\n",
            "NotebookApp.rate_limit_window=3.0 (secs)\n",
            "\n"
          ]
        },
        {
          "output_type": "stream",
          "name": "stdout",
          "text": [
            "[================================================--] 96.9% 1612.0/1662.8MB downloaded"
          ]
        },
        {
          "output_type": "stream",
          "name": "stderr",
          "text": [
            "IOPub message rate exceeded.\n",
            "The notebook server will temporarily stop sending output\n",
            "to the client in order to avoid crashing it.\n",
            "To change this limit, set the config variable\n",
            "`--NotebookApp.iopub_msg_rate_limit`.\n",
            "\n",
            "Current values:\n",
            "NotebookApp.iopub_msg_rate_limit=1000.0 (msgs/sec)\n",
            "NotebookApp.rate_limit_window=3.0 (secs)\n",
            "\n"
          ]
        },
        {
          "output_type": "stream",
          "name": "stdout",
          "text": [
            "[==================================================] 100.0% 1662.8/1662.8MB downloaded\n"
          ]
        }
      ],
      "source": [
        "word2vec = api.load(\"word2vec-google-news-300\")"
      ]
    },
    {
      "cell_type": "code",
      "execution_count": null,
      "metadata": {
        "id": "5DVWV0ogoRTJ"
      },
      "outputs": [],
      "source": [
        "#creation of embedding matrix\n",
        "embedding_matrix = np.zeros((vocab_size, embedding_dim))"
      ]
    },
    {
      "cell_type": "code",
      "execution_count": null,
      "metadata": {
        "id": "R-MFMJ-NoRTJ"
      },
      "outputs": [],
      "source": [
        "for word, i in tokenizer.word_index.items():\n",
        "    try:\n",
        "        embedding_vector = word2vec[word]\n",
        "        embedding_matrix[i] = embedding_vector\n",
        "    except KeyError:\n",
        "        pass\n"
      ]
    },
    {
      "cell_type": "code",
      "execution_count": null,
      "metadata": {
        "colab": {
          "base_uri": "https://localhost:8080/"
        },
        "id": "ulTj6ssBoRTJ",
        "outputId": "381548a4-2610-4dda-dd8a-790e4653f7ac"
      },
      "outputs": [
        {
          "output_type": "execute_result",
          "data": {
            "text/plain": [
              "(100346, 300)"
            ]
          },
          "metadata": {},
          "execution_count": 13
        }
      ],
      "source": [
        "embedding_matrix.shape"
      ]
    },
    {
      "cell_type": "code",
      "execution_count": null,
      "metadata": {
        "colab": {
          "base_uri": "https://localhost:8080/"
        },
        "id": "4YllmLB4oRTJ",
        "outputId": "6ec0c274-c04f-451c-dfb6-8f1fca5e7ba0"
      },
      "outputs": [
        {
          "output_type": "execute_result",
          "data": {
            "text/plain": [
              "(300,)"
            ]
          },
          "metadata": {},
          "execution_count": 14
        }
      ],
      "source": [
        "embedding_vector.shape"
      ]
    },
    {
      "cell_type": "code",
      "execution_count": null,
      "metadata": {
        "id": "qX9DGfi7oRTK"
      },
      "outputs": [],
      "source": [
        "# Helper function to convert and pad sequences\n",
        "def process_texts(input_texts, target_texts):\n",
        "    input_sequences = tokenizer.texts_to_sequences(input_texts)\n",
        "    target_sequences = tokenizer.texts_to_sequences(target_texts)\n",
        "    input_sequences = pad_sequences(input_sequences, maxlen=max_len_input, padding='post')\n",
        "    target_sequences = pad_sequences(target_sequences, maxlen=max_len_target, padding='post')\n",
        "    return input_sequences, target_sequences\n"
      ]
    },
    {
      "cell_type": "code",
      "execution_count": null,
      "metadata": {
        "id": "YpDkPdcwoRTK"
      },
      "outputs": [],
      "source": [
        "input_sequences, target_sequences = process_texts(train_input_texts, train_target_texts)\n",
        "val_input_sequences, val_target_sequences = process_texts(val_input_texts, val_target_texts)\n",
        "test_input_sequences, test_target_sequences = process_texts(test_input_texts, test_target_texts)\n"
      ]
    },
    {
      "cell_type": "code",
      "execution_count": null,
      "metadata": {
        "id": "YlEemxQGoRTK"
      },
      "outputs": [],
      "source": [
        "# Decoder input and target data\n",
        "decoder_input_data = target_sequences[:, :-1]\n",
        "decoder_target_data = target_sequences[:, 1:]\n",
        "decoder_target_data_one_hot = to_categorical(decoder_target_data, num_classes=vocab_size)\n",
        "\n",
        "val_decoder_input_data = val_target_sequences[:, :-1]\n",
        "val_decoder_target_data = val_target_sequences[:, 1:]\n",
        "val_decoder_target_data_one_hot = to_categorical(val_decoder_target_data, num_classes=vocab_size)\n",
        "\n",
        "test_decoder_input_data = test_target_sequences[:, :-1]\n",
        "test_decoder_target_data = test_target_sequences[:, 1:]\n",
        "test_decoder_target_data_one_hot = to_categorical(test_decoder_target_data, num_classes=vocab_size)\n"
      ]
    },
    {
      "cell_type": "code",
      "execution_count": null,
      "metadata": {
        "id": "91sfD8oToRTK"
      },
      "outputs": [],
      "source": [
        "# Define the model\n",
        "\n",
        "# Encoder\n",
        "encoder_inputs = Input(shape=(max_len_input,))\n",
        "encoder_embedding = Embedding(input_dim=vocab_size, output_dim=embedding_dim, weights=[embedding_matrix], trainable=False)(encoder_inputs)\n",
        "encoder_conv = Conv1D(filters=latent_dim, kernel_size=3, activation='relu', padding='same')(encoder_embedding)\n",
        "encoder_pool = MaxPooling1D(pool_size=2)(encoder_conv)\n",
        "encoder_gru = GRU(latent_dim, return_state=True)\n",
        "encoder_outputs, state_h = encoder_gru(encoder_pool)\n",
        "encoder_states = [state_h]"
      ]
    },
    {
      "cell_type": "code",
      "execution_count": null,
      "metadata": {
        "id": "YxCvDa68oRTK"
      },
      "outputs": [],
      "source": [
        "# Decoder\n",
        "decoder_inputs = Input(shape=(None,))\n",
        "decoder_embedding_layer = Embedding(input_dim=vocab_size, output_dim=latent_dim)\n",
        "decoder_embedding = decoder_embedding_layer(decoder_inputs)\n",
        "decoder_bigru = Bidirectional(GRU(latent_dim, return_sequences=True, return_state=False))\n",
        "decoder_outputs = decoder_bigru(decoder_embedding, initial_state=encoder_states + encoder_states)  # Adjust initial_state\n",
        "decoder_dense = Dense(vocab_size, activation='softmax')\n",
        "decoder_outputs = decoder_dense(decoder_outputs)\n",
        "model = Model([encoder_inputs, decoder_inputs], decoder_outputs)\n"
      ]
    },
    {
      "cell_type": "code",
      "execution_count": null,
      "metadata": {
        "id": "MSNf1GsloRTK"
      },
      "outputs": [],
      "source": [
        "model.compile(optimizer='adam', loss='categorical_crossentropy', metrics=['accuracy'])\n"
      ]
    },
    {
      "cell_type": "code",
      "execution_count": null,
      "metadata": {
        "id": "6RY3nOm-oRTK"
      },
      "outputs": [],
      "source": [
        "# Checkpoint callback\n",
        "checkpoint_path = \"model_checkpoint.h5\"\n",
        "checkpoint = ModelCheckpoint(checkpoint_path, monitor='val_loss', verbose=1, save_best_only=True, mode='min')\n"
      ]
    },
    {
      "cell_type": "code",
      "execution_count": null,
      "metadata": {
        "colab": {
          "base_uri": "https://localhost:8080/"
        },
        "id": "03CO4pG4oRTK",
        "outputId": "44384253-50dd-4b0a-b5a9-ffccc8da9bc0"
      },
      "outputs": [
        {
          "output_type": "stream",
          "name": "stdout",
          "text": [
            "Epoch 1/50\n",
            "16/16 [==============================] - ETA: 0s - loss: 11.0353 - accuracy: 0.0659\n",
            "Epoch 1: val_loss improved from inf to 8.12064, saving model to model_checkpoint.h5\n"
          ]
        },
        {
          "output_type": "stream",
          "name": "stderr",
          "text": [
            "/usr/local/lib/python3.10/dist-packages/keras/src/engine/training.py:3103: UserWarning: You are saving your model as an HDF5 file via `model.save()`. This file format is considered legacy. We recommend using instead the native Keras format, e.g. `model.save('my_model.keras')`.\n",
            "  saving_api.save_model(\n"
          ]
        },
        {
          "output_type": "stream",
          "name": "stdout",
          "text": [
            "\b\b\b\b\b\b\b\b\b\b\b\b\b\b\b\b\b\b\b\b\b\b\b\b\b\b\b\b\b\b\b\b\b\b\b\b\b\b\b\b\b\b\b\b\b\b\b\b\b\b\b\b\b\b\b\b\b\b\b\b\b\b\b\b\b\b\b\b\b\b\b\b\b\b\b\b\b\b\b\b\b\b\b\r16/16 [==============================] - 86s 5s/step - loss: 11.0353 - accuracy: 0.0659 - val_loss: 8.1206 - val_accuracy: 0.0579\n",
            "Epoch 2/50\n",
            "16/16 [==============================] - ETA: 0s - loss: 7.7831 - accuracy: 0.0600\n",
            "Epoch 2: val_loss did not improve from 8.12064\n",
            "16/16 [==============================] - 49s 3s/step - loss: 7.7831 - accuracy: 0.0600 - val_loss: 8.2182 - val_accuracy: 0.0579\n",
            "Epoch 3/50\n",
            "16/16 [==============================] - ETA: 0s - loss: 7.4316 - accuracy: 0.0600\n",
            "Epoch 3: val_loss improved from 8.12064 to 8.09489, saving model to model_checkpoint.h5\n",
            "16/16 [==============================] - 51s 3s/step - loss: 7.4316 - accuracy: 0.0600 - val_loss: 8.0949 - val_accuracy: 0.0579\n",
            "Epoch 4/50\n",
            "16/16 [==============================] - ETA: 0s - loss: 7.3157 - accuracy: 0.0601\n",
            "Epoch 4: val_loss improved from 8.09489 to 8.08018, saving model to model_checkpoint.h5\n",
            "16/16 [==============================] - 51s 3s/step - loss: 7.3157 - accuracy: 0.0601 - val_loss: 8.0802 - val_accuracy: 0.0585\n",
            "Epoch 5/50\n",
            "16/16 [==============================] - ETA: 0s - loss: 7.2850 - accuracy: 0.0607\n",
            "Epoch 5: val_loss improved from 8.08018 to 8.07300, saving model to model_checkpoint.h5\n",
            "16/16 [==============================] - 51s 3s/step - loss: 7.2850 - accuracy: 0.0607 - val_loss: 8.0730 - val_accuracy: 0.0585\n",
            "Epoch 6/50\n",
            "16/16 [==============================] - ETA: 0s - loss: 7.2625 - accuracy: 0.0607\n",
            "Epoch 6: val_loss did not improve from 8.07300\n",
            "16/16 [==============================] - 48s 3s/step - loss: 7.2625 - accuracy: 0.0607 - val_loss: 8.0787 - val_accuracy: 0.0585\n",
            "Epoch 7/50\n",
            "16/16 [==============================] - ETA: 0s - loss: 7.2373 - accuracy: 0.0607\n",
            "Epoch 7: val_loss did not improve from 8.07300\n",
            "16/16 [==============================] - 49s 3s/step - loss: 7.2373 - accuracy: 0.0607 - val_loss: 8.0861 - val_accuracy: 0.0585\n",
            "Epoch 8/50\n",
            "16/16 [==============================] - ETA: 0s - loss: 7.2138 - accuracy: 0.0607\n",
            "Epoch 8: val_loss did not improve from 8.07300\n",
            "16/16 [==============================] - 49s 3s/step - loss: 7.2138 - accuracy: 0.0607 - val_loss: 8.0981 - val_accuracy: 0.0585\n",
            "Epoch 9/50\n",
            "16/16 [==============================] - ETA: 0s - loss: 7.1792 - accuracy: 0.0607\n",
            "Epoch 9: val_loss did not improve from 8.07300\n",
            "16/16 [==============================] - 49s 3s/step - loss: 7.1792 - accuracy: 0.0607 - val_loss: 8.0922 - val_accuracy: 0.0585\n",
            "Epoch 10/50\n",
            "16/16 [==============================] - ETA: 0s - loss: 7.1248 - accuracy: 0.0608\n",
            "Epoch 10: val_loss improved from 8.07300 to 8.07171, saving model to model_checkpoint.h5\n",
            "16/16 [==============================] - 52s 3s/step - loss: 7.1248 - accuracy: 0.0608 - val_loss: 8.0717 - val_accuracy: 0.0643\n",
            "Epoch 11/50\n",
            "16/16 [==============================] - ETA: 0s - loss: 7.0489 - accuracy: 0.0710\n",
            "Epoch 11: val_loss improved from 8.07171 to 8.01746, saving model to model_checkpoint.h5\n",
            "16/16 [==============================] - 51s 3s/step - loss: 7.0489 - accuracy: 0.0710 - val_loss: 8.0175 - val_accuracy: 0.0779\n",
            "Epoch 12/50\n",
            "16/16 [==============================] - ETA: 0s - loss: 6.9501 - accuracy: 0.0890\n",
            "Epoch 12: val_loss improved from 8.01746 to 7.96981, saving model to model_checkpoint.h5\n",
            "16/16 [==============================] - 52s 3s/step - loss: 6.9501 - accuracy: 0.0890 - val_loss: 7.9698 - val_accuracy: 0.0918\n",
            "Epoch 13/50\n",
            "16/16 [==============================] - ETA: 0s - loss: 6.8494 - accuracy: 0.0977\n",
            "Epoch 13: val_loss improved from 7.96981 to 7.90745, saving model to model_checkpoint.h5\n",
            "16/16 [==============================] - 52s 3s/step - loss: 6.8494 - accuracy: 0.0977 - val_loss: 7.9075 - val_accuracy: 0.0993\n",
            "Epoch 14/50\n",
            "16/16 [==============================] - ETA: 0s - loss: 6.7241 - accuracy: 0.1091\n",
            "Epoch 14: val_loss improved from 7.90745 to 7.82411, saving model to model_checkpoint.h5\n",
            "16/16 [==============================] - 51s 3s/step - loss: 6.7241 - accuracy: 0.1091 - val_loss: 7.8241 - val_accuracy: 0.1016\n",
            "Epoch 15/50\n",
            "16/16 [==============================] - ETA: 0s - loss: 6.5736 - accuracy: 0.1127\n",
            "Epoch 15: val_loss improved from 7.82411 to 7.71214, saving model to model_checkpoint.h5\n",
            "16/16 [==============================] - 52s 3s/step - loss: 6.5736 - accuracy: 0.1127 - val_loss: 7.7121 - val_accuracy: 0.1112\n",
            "Epoch 16/50\n",
            "16/16 [==============================] - ETA: 0s - loss: 6.3995 - accuracy: 0.1190\n",
            "Epoch 16: val_loss improved from 7.71214 to 7.59202, saving model to model_checkpoint.h5\n",
            "16/16 [==============================] - 52s 3s/step - loss: 6.3995 - accuracy: 0.1190 - val_loss: 7.5920 - val_accuracy: 0.1178\n",
            "Epoch 17/50\n",
            "16/16 [==============================] - ETA: 0s - loss: 6.2071 - accuracy: 0.1267\n",
            "Epoch 17: val_loss improved from 7.59202 to 7.47161, saving model to model_checkpoint.h5\n",
            "16/16 [==============================] - 52s 3s/step - loss: 6.2071 - accuracy: 0.1267 - val_loss: 7.4716 - val_accuracy: 0.1290\n",
            "Epoch 18/50\n",
            "16/16 [==============================] - ETA: 0s - loss: 6.0037 - accuracy: 0.1423\n",
            "Epoch 18: val_loss improved from 7.47161 to 7.36595, saving model to model_checkpoint.h5\n",
            "16/16 [==============================] - 52s 3s/step - loss: 6.0037 - accuracy: 0.1423 - val_loss: 7.3660 - val_accuracy: 0.1425\n",
            "Epoch 19/50\n",
            "16/16 [==============================] - ETA: 0s - loss: 5.7881 - accuracy: 0.1649\n",
            "Epoch 19: val_loss improved from 7.36595 to 7.24072, saving model to model_checkpoint.h5\n",
            "16/16 [==============================] - 53s 3s/step - loss: 5.7881 - accuracy: 0.1649 - val_loss: 7.2407 - val_accuracy: 0.1731\n",
            "Epoch 20/50\n",
            "16/16 [==============================] - ETA: 0s - loss: 5.5694 - accuracy: 0.1859\n",
            "Epoch 20: val_loss improved from 7.24072 to 7.11314, saving model to model_checkpoint.h5\n",
            "16/16 [==============================] - 53s 3s/step - loss: 5.5694 - accuracy: 0.1859 - val_loss: 7.1131 - val_accuracy: 0.1879\n",
            "Epoch 21/50\n",
            "16/16 [==============================] - ETA: 0s - loss: 5.3460 - accuracy: 0.1981\n",
            "Epoch 21: val_loss improved from 7.11314 to 6.99785, saving model to model_checkpoint.h5\n",
            "16/16 [==============================] - 53s 3s/step - loss: 5.3460 - accuracy: 0.1981 - val_loss: 6.9979 - val_accuracy: 0.2008\n",
            "Epoch 22/50\n",
            "16/16 [==============================] - ETA: 0s - loss: 5.1153 - accuracy: 0.2118\n",
            "Epoch 22: val_loss improved from 6.99785 to 6.86115, saving model to model_checkpoint.h5\n",
            "16/16 [==============================] - 52s 3s/step - loss: 5.1153 - accuracy: 0.2118 - val_loss: 6.8612 - val_accuracy: 0.2110\n",
            "Epoch 23/50\n",
            "16/16 [==============================] - ETA: 0s - loss: 4.8824 - accuracy: 0.2320\n",
            "Epoch 23: val_loss improved from 6.86115 to 6.74189, saving model to model_checkpoint.h5\n",
            "16/16 [==============================] - 53s 3s/step - loss: 4.8824 - accuracy: 0.2320 - val_loss: 6.7419 - val_accuracy: 0.2223\n",
            "Epoch 24/50\n",
            "16/16 [==============================] - ETA: 0s - loss: 4.6445 - accuracy: 0.2536\n",
            "Epoch 24: val_loss improved from 6.74189 to 6.61508, saving model to model_checkpoint.h5\n",
            "16/16 [==============================] - 53s 3s/step - loss: 4.6445 - accuracy: 0.2536 - val_loss: 6.6151 - val_accuracy: 0.2460\n",
            "Epoch 25/50\n",
            "16/16 [==============================] - ETA: 0s - loss: 4.3893 - accuracy: 0.2827\n",
            "Epoch 25: val_loss improved from 6.61508 to 6.46568, saving model to model_checkpoint.h5\n",
            "16/16 [==============================] - 53s 3s/step - loss: 4.3893 - accuracy: 0.2827 - val_loss: 6.4657 - val_accuracy: 0.2688\n",
            "Epoch 26/50\n",
            "16/16 [==============================] - ETA: 0s - loss: 4.1365 - accuracy: 0.3092\n",
            "Epoch 26: val_loss improved from 6.46568 to 6.33059, saving model to model_checkpoint.h5\n",
            "16/16 [==============================] - 52s 3s/step - loss: 4.1365 - accuracy: 0.3092 - val_loss: 6.3306 - val_accuracy: 0.2920\n",
            "Epoch 27/50\n",
            "16/16 [==============================] - ETA: 0s - loss: 3.8838 - accuracy: 0.3350\n",
            "Epoch 27: val_loss improved from 6.33059 to 6.20913, saving model to model_checkpoint.h5\n",
            "16/16 [==============================] - 52s 3s/step - loss: 3.8838 - accuracy: 0.3350 - val_loss: 6.2091 - val_accuracy: 0.3042\n",
            "Epoch 28/50\n",
            "16/16 [==============================] - ETA: 0s - loss: 3.6397 - accuracy: 0.3631\n",
            "Epoch 28: val_loss improved from 6.20913 to 6.08206, saving model to model_checkpoint.h5\n",
            "16/16 [==============================] - 53s 3s/step - loss: 3.6397 - accuracy: 0.3631 - val_loss: 6.0821 - val_accuracy: 0.3189\n",
            "Epoch 29/50\n",
            "16/16 [==============================] - ETA: 0s - loss: 3.3930 - accuracy: 0.3952\n",
            "Epoch 29: val_loss improved from 6.08206 to 5.97204, saving model to model_checkpoint.h5\n",
            "16/16 [==============================] - 53s 3s/step - loss: 3.3930 - accuracy: 0.3952 - val_loss: 5.9720 - val_accuracy: 0.3353\n",
            "Epoch 30/50\n",
            "16/16 [==============================] - ETA: 0s - loss: 3.1610 - accuracy: 0.4364\n",
            "Epoch 30: val_loss improved from 5.97204 to 5.87796, saving model to model_checkpoint.h5\n",
            "16/16 [==============================] - 52s 3s/step - loss: 3.1610 - accuracy: 0.4364 - val_loss: 5.8780 - val_accuracy: 0.3484\n",
            "Epoch 31/50\n",
            "16/16 [==============================] - ETA: 0s - loss: 2.9322 - accuracy: 0.4840\n",
            "Epoch 31: val_loss improved from 5.87796 to 5.78488, saving model to model_checkpoint.h5\n",
            "16/16 [==============================] - 53s 3s/step - loss: 2.9322 - accuracy: 0.4840 - val_loss: 5.7849 - val_accuracy: 0.3624\n",
            "Epoch 32/50\n",
            "16/16 [==============================] - ETA: 0s - loss: 2.7058 - accuracy: 0.5409\n",
            "Epoch 32: val_loss improved from 5.78488 to 5.69774, saving model to model_checkpoint.h5\n",
            "16/16 [==============================] - 53s 3s/step - loss: 2.7058 - accuracy: 0.5409 - val_loss: 5.6977 - val_accuracy: 0.3757\n",
            "Epoch 33/50\n",
            "16/16 [==============================] - ETA: 0s - loss: 2.4891 - accuracy: 0.5892\n",
            "Epoch 33: val_loss improved from 5.69774 to 5.62276, saving model to model_checkpoint.h5\n",
            "16/16 [==============================] - 53s 3s/step - loss: 2.4891 - accuracy: 0.5892 - val_loss: 5.6228 - val_accuracy: 0.3896\n",
            "Epoch 34/50\n",
            "16/16 [==============================] - ETA: 0s - loss: 2.2782 - accuracy: 0.6459\n",
            "Epoch 34: val_loss improved from 5.62276 to 5.55829, saving model to model_checkpoint.h5\n",
            "16/16 [==============================] - 52s 3s/step - loss: 2.2782 - accuracy: 0.6459 - val_loss: 5.5583 - val_accuracy: 0.4017\n",
            "Epoch 35/50\n",
            "16/16 [==============================] - ETA: 0s - loss: 2.0711 - accuracy: 0.6912\n",
            "Epoch 35: val_loss improved from 5.55829 to 5.48547, saving model to model_checkpoint.h5\n",
            "16/16 [==============================] - 53s 3s/step - loss: 2.0711 - accuracy: 0.6912 - val_loss: 5.4855 - val_accuracy: 0.4151\n",
            "Epoch 36/50\n",
            "16/16 [==============================] - ETA: 0s - loss: 1.8789 - accuracy: 0.7346\n",
            "Epoch 36: val_loss improved from 5.48547 to 5.42271, saving model to model_checkpoint.h5\n",
            "16/16 [==============================] - 53s 3s/step - loss: 1.8789 - accuracy: 0.7346 - val_loss: 5.4227 - val_accuracy: 0.4277\n",
            "Epoch 37/50\n",
            "16/16 [==============================] - ETA: 0s - loss: 1.6910 - accuracy: 0.7714\n",
            "Epoch 37: val_loss improved from 5.42271 to 5.36714, saving model to model_checkpoint.h5\n",
            "16/16 [==============================] - 53s 3s/step - loss: 1.6910 - accuracy: 0.7714 - val_loss: 5.3671 - val_accuracy: 0.4381\n",
            "Epoch 38/50\n",
            "16/16 [==============================] - ETA: 0s - loss: 1.5192 - accuracy: 0.8062\n",
            "Epoch 38: val_loss improved from 5.36714 to 5.31715, saving model to model_checkpoint.h5\n",
            "16/16 [==============================] - 53s 3s/step - loss: 1.5192 - accuracy: 0.8062 - val_loss: 5.3172 - val_accuracy: 0.4472\n",
            "Epoch 39/50\n",
            "16/16 [==============================] - ETA: 0s - loss: 1.3609 - accuracy: 0.8364\n",
            "Epoch 39: val_loss improved from 5.31715 to 5.27098, saving model to model_checkpoint.h5\n",
            "16/16 [==============================] - 53s 3s/step - loss: 1.3609 - accuracy: 0.8364 - val_loss: 5.2710 - val_accuracy: 0.4572\n",
            "Epoch 40/50\n",
            "16/16 [==============================] - ETA: 0s - loss: 1.2162 - accuracy: 0.8634\n",
            "Epoch 40: val_loss improved from 5.27098 to 5.22310, saving model to model_checkpoint.h5\n",
            "16/16 [==============================] - 53s 3s/step - loss: 1.2162 - accuracy: 0.8634 - val_loss: 5.2231 - val_accuracy: 0.4664\n",
            "Epoch 41/50\n",
            "16/16 [==============================] - ETA: 0s - loss: 1.0851 - accuracy: 0.8864\n",
            "Epoch 41: val_loss improved from 5.22310 to 5.18887, saving model to model_checkpoint.h5\n",
            "16/16 [==============================] - 53s 3s/step - loss: 1.0851 - accuracy: 0.8864 - val_loss: 5.1889 - val_accuracy: 0.4734\n",
            "Epoch 42/50\n",
            "16/16 [==============================] - ETA: 0s - loss: 0.9671 - accuracy: 0.9064\n",
            "Epoch 42: val_loss improved from 5.18887 to 5.15154, saving model to model_checkpoint.h5\n",
            "16/16 [==============================] - 53s 3s/step - loss: 0.9671 - accuracy: 0.9064 - val_loss: 5.1515 - val_accuracy: 0.4807\n",
            "Epoch 43/50\n",
            "16/16 [==============================] - ETA: 0s - loss: 0.8602 - accuracy: 0.9233\n",
            "Epoch 43: val_loss improved from 5.15154 to 5.11487, saving model to model_checkpoint.h5\n",
            "16/16 [==============================] - 53s 3s/step - loss: 0.8602 - accuracy: 0.9233 - val_loss: 5.1149 - val_accuracy: 0.4873\n",
            "Epoch 44/50\n",
            "16/16 [==============================] - ETA: 0s - loss: 0.7670 - accuracy: 0.9373\n",
            "Epoch 44: val_loss improved from 5.11487 to 5.07564, saving model to model_checkpoint.h5\n",
            "16/16 [==============================] - 53s 3s/step - loss: 0.7670 - accuracy: 0.9373 - val_loss: 5.0756 - val_accuracy: 0.4926\n",
            "Epoch 45/50\n",
            "16/16 [==============================] - ETA: 0s - loss: 0.6832 - accuracy: 0.9490\n",
            "Epoch 45: val_loss improved from 5.07564 to 5.04565, saving model to model_checkpoint.h5\n",
            "16/16 [==============================] - 55s 4s/step - loss: 0.6832 - accuracy: 0.9490 - val_loss: 5.0457 - val_accuracy: 0.4989\n",
            "Epoch 46/50\n",
            "16/16 [==============================] - ETA: 0s - loss: 0.6092 - accuracy: 0.9581\n",
            "Epoch 46: val_loss improved from 5.04565 to 5.02081, saving model to model_checkpoint.h5\n",
            "16/16 [==============================] - 56s 4s/step - loss: 0.6092 - accuracy: 0.9581 - val_loss: 5.0208 - val_accuracy: 0.5039\n",
            "Epoch 47/50\n",
            "16/16 [==============================] - ETA: 0s - loss: 0.5429 - accuracy: 0.9660\n",
            "Epoch 47: val_loss improved from 5.02081 to 4.99654, saving model to model_checkpoint.h5\n",
            "16/16 [==============================] - 57s 4s/step - loss: 0.5429 - accuracy: 0.9660 - val_loss: 4.9965 - val_accuracy: 0.5093\n",
            "Epoch 48/50\n",
            "16/16 [==============================] - ETA: 0s - loss: 0.4851 - accuracy: 0.9727\n",
            "Epoch 48: val_loss improved from 4.99654 to 4.97471, saving model to model_checkpoint.h5\n",
            "16/16 [==============================] - 57s 4s/step - loss: 0.4851 - accuracy: 0.9727 - val_loss: 4.9747 - val_accuracy: 0.5134\n",
            "Epoch 49/50\n",
            "16/16 [==============================] - ETA: 0s - loss: 0.4351 - accuracy: 0.9779\n",
            "Epoch 49: val_loss improved from 4.97471 to 4.95645, saving model to model_checkpoint.h5\n",
            "16/16 [==============================] - 57s 4s/step - loss: 0.4351 - accuracy: 0.9779 - val_loss: 4.9565 - val_accuracy: 0.5182\n",
            "Epoch 50/50\n",
            "16/16 [==============================] - ETA: 0s - loss: 0.3907 - accuracy: 0.9820\n",
            "Epoch 50: val_loss improved from 4.95645 to 4.92899, saving model to model_checkpoint.h5\n",
            "16/16 [==============================] - 57s 4s/step - loss: 0.3907 - accuracy: 0.9820 - val_loss: 4.9290 - val_accuracy: 0.5215\n"
          ]
        }
      ],
      "source": [
        "# Training the model\n",
        "history = model.fit(\n",
        "    [input_sequences, decoder_input_data],\n",
        "    decoder_target_data_one_hot,  # one-hot encoded labels\n",
        "    batch_size=batch_size,\n",
        "    epochs=50,\n",
        "    validation_data=([val_input_sequences, val_decoder_input_data], val_decoder_target_data_one_hot),  # corrected validation data\n",
        "    callbacks=[checkpoint],\n",
        "    verbose=1\n",
        ")\n"
      ]
    },
    {
      "cell_type": "code",
      "source": [],
      "metadata": {
        "id": "lBUrHNb9ycOH"
      },
      "execution_count": null,
      "outputs": []
    },
    {
      "cell_type": "code",
      "source": [
        "import matplotlib.pyplot as plt\n",
        "\n",
        "# Set the size of the plot\n",
        "plt.figure(figsize=(10, 6))\n",
        "\n",
        "# Plot training & validation loss with specific line style and marker\n",
        "plt.plot(history.history['loss'], label='Training Loss', color='blue', linestyle='-', marker='o', linewidth=2, markersize=5)\n",
        "plt.plot(history.history['val_loss'], label='Validation Loss', color='red', linestyle='--', marker='x', linewidth=2, markersize=5)\n",
        "\n",
        "# Add title and axis labels\n",
        "plt.title('Model Training and Validation Loss')\n",
        "plt.xlabel('Epoch')\n",
        "plt.ylabel('Loss')\n",
        "\n",
        "# Add grid\n",
        "plt.grid(True)\n",
        "\n",
        "# Add legend to specify which line is which\n",
        "plt.legend()\n",
        "\n",
        "# Show the plot\n",
        "plt.show()"
      ],
      "metadata": {
        "colab": {
          "base_uri": "https://localhost:8080/",
          "height": 523
        },
        "id": "TkWRBAh-ycL5",
        "outputId": "50917a68-47f2-4e09-d15d-3e6b35dbef5e"
      },
      "execution_count": null,
      "outputs": [
        {
          "output_type": "display_data",
          "data": {
            "text/plain": [
              "<Figure size 1000x600 with 1 Axes>"
            ],
            "image/png": "[encoded data removed]"
          },
          "metadata": {}
        }
      ]
    },
    {
      "cell_type": "code",
      "execution_count": null,
      "metadata": {
        "colab": {
          "base_uri": "https://localhost:8080/",
          "height": 527
        },
        "id": "8Lo7Hwy-oRTL",
        "outputId": "072dc760-4d46-48fb-df96-1c5ac790ec98"
      },
      "outputs": [
        {
          "output_type": "display_data",
          "data": {
            "text/plain": [
              "<Figure size 1000x600 with 2 Axes>"
            ],
            "image/png": "[encoded data removed]"
          },
          "metadata": {}
        }
      ],
      "source": [
        "import matplotlib.pyplot as plt\n",
        "\n",
        "# Create a figure and a set of subplots\n",
        "fig, ax1 = plt.subplots(figsize=(10, 6))\n",
        "\n",
        "# Plot training and validation loss\n",
        "color = 'tab:red'\n",
        "ax1.set_xlabel('Epoch')\n",
        "ax1.set_ylabel('Loss', color=color)\n",
        "loss_train_line, = ax1.plot(history.history['loss'], label='Training Loss', color='red', linestyle='-', marker='o', linewidth=2, markersize=5)\n",
        "loss_val_line, = ax1.plot(history.history['val_loss'], label='Validation Loss', color='red', linestyle='--', marker='x', linewidth=2, markersize=5)\n",
        "ax1.tick_params(axis='y', labelcolor=color)\n",
        "ax1.grid(True)\n",
        "\n",
        "# Instantiate a second y-axis for same x-axis\n",
        "ax2 = ax1.twinx()\n",
        "color = 'tab:blue'\n",
        "ax2.set_ylabel('Accuracy', color=color)\n",
        "accuracy_train_line, = ax2.plot(history.history['accuracy'], label='Training Accuracy', color='blue', linestyle='-', marker='o', linewidth=2, markersize=5)\n",
        "accuracy_val_line, = ax2.plot(history.history['val_accuracy'], label='Validation Accuracy', color='blue', linestyle='--', marker='x', linewidth=2, markersize=5)\n",
        "ax2.tick_params(axis='y', labelcolor=color)\n",
        "\n",
        "# Create a legend for all lines\n",
        "lines = [loss_train_line, loss_val_line, accuracy_train_line, accuracy_val_line]\n",
        "labels = [line.get_label() for line in lines]\n",
        "ax1.legend(lines, labels, loc='upper left')\n",
        "\n",
        "# Add a title to the figure\n",
        "fig.suptitle('Model Training & Validation Metrics')\n",
        "\n",
        "# Show the plot\n",
        "plt.show()\n"
      ]
    },
    {
      "cell_type": "code",
      "source": [
        "# Load the best model\n",
        "model.load_weights('model_checkpoint.h5')\n"
      ],
      "metadata": {
        "colab": {
          "base_uri": "https://localhost:8080/",
          "height": 159
        },
        "id": "BjZsEKNx01rL",
        "outputId": "c639b4f8-19d2-4faf-ea0f-db98efa62b5a"
      },
      "execution_count": null,
      "outputs": [
        {
          "output_type": "error",
          "ename": "NameError",
          "evalue": "name 'model' is not defined",
          "traceback": [
            "\u001b[0;31m---------------------------------------------------------------------------\u001b[0m",
            "\u001b[0;31mNameError\u001b[0m                                 Traceback (most recent call last)",
            "\u001b[0;32m<ipython-input-1-942c04907a90>\u001b[0m in \u001b[0;36m<cell line: 2>\u001b[0;34m()\u001b[0m\n\u001b[1;32m      1\u001b[0m \u001b[0;31m# Load the best model\u001b[0m\u001b[0;34m\u001b[0m\u001b[0;34m\u001b[0m\u001b[0m\n\u001b[0;32m----> 2\u001b[0;31m \u001b[0mmodel\u001b[0m\u001b[0;34m.\u001b[0m\u001b[0mload_weights\u001b[0m\u001b[0;34m(\u001b[0m\u001b[0;34m'model_checkpoint.h5'\u001b[0m\u001b[0;34m)\u001b[0m\u001b[0;34m\u001b[0m\u001b[0;34m\u001b[0m\u001b[0m\n\u001b[0m",
            "\u001b[0;31mNameError\u001b[0m: name 'model' is not defined"
          ]
        }
      ]
    },
    {
      "cell_type": "code",
      "source": [
        "from sklearn.metrics import precision_score, recall_score, f1_score, confusion_matrix\n",
        "from tensorflow.keras.utils import to_categorical\n",
        "import numpy as np\n",
        "import matplotlib.pyplot as plt"
      ],
      "metadata": {
        "id": "6BhhHk8Z9bE5"
      },
      "execution_count": null,
      "outputs": []
    },
    {
      "cell_type": "code",
      "source": [
        "import pandas as pd\n",
        "\n",
        "def evaluate_average_rouge(model, input_data, decoder_input_data, target_data, tokenizer):\n",
        "    # Generate predictions\n",
        "    pred_one_hot = model.predict([input_data, decoder_input_data])\n",
        "    pred_labels = np.argmax(pred_one_hot, axis=-1)\n",
        "\n",
        "    # Convert predictions and true labels to texts\n",
        "    true_texts = [' '.join(tokenizer.sequences_to_texts([seq])) for seq in target_data.argmax(axis=-1)]\n",
        "    pred_texts = [' '.join(tokenizer.sequences_to_texts([seq])) for seq in pred_labels]\n",
        "\n",
        "    # Initialize the ROUGE scorer\n",
        "    scorer = rouge_scorer.RougeScorer(['rouge1', 'rouge2', 'rougeL'], use_stemmer=True)\n",
        "    all_scores = [scorer.score(true, pred) for true, pred in zip(true_texts, pred_texts)]\n",
        "\n",
        "    # Calculate average scores\n",
        "    average_scores = {key: {'precision': 0, 'recall': 0, 'fmeasure': 0} for key in ['rouge1', 'rouge2', 'rougeL']}\n",
        "    for score in all_scores:\n",
        "        for key in score:\n",
        "            average_scores[key]['precision'] += score[key].precision\n",
        "            average_scores[key]['recall'] += score[key].recall\n",
        "            average_scores[key]['fmeasure'] += score[key].fmeasure\n",
        "\n",
        "    # Average the summed scores\n",
        "    num_scores = len(all_scores)\n",
        "    for key in average_scores:\n",
        "        average_scores[key]['precision'] /= num_scores\n",
        "        average_scores[key]['recall'] /= num_scores\n",
        "        average_scores[key]['fmeasure'] /= num_scores\n",
        "\n",
        "    # Convert to DataFrame for display\n",
        "    df = pd.DataFrame(average_scores).transpose()\n",
        "    df.columns = ['Precision', 'Recall', 'F-measure']\n",
        "    return df\n",
        "\n",
        "# Example usage\n",
        "average_rouge_scores = evaluate_average_rouge(model, test_input_sequences, test_decoder_input_data, test_decoder_target_data_one_hot, tokenizer)\n",
        "print(\"Average ROUGE Scores:\")\n",
        "print(average_rouge_scores)\n"
      ],
      "metadata": {
        "id": "yt8ucMLM7TLh",
        "colab": {
          "base_uri": "https://localhost:8080/"
        },
        "outputId": "11c9551f-7bf6-4c3b-8867-60fc23f3d4d3"
      },
      "execution_count": null,
      "outputs": [
        {
          "output_type": "stream",
          "name": "stdout",
          "text": [
            "32/32 [==============================] - 6s 201ms/step\n",
            "Average ROUGE Scores:\n",
            "        Precision    Recall  F-measure\n",
            "rouge1   0.540949  0.534917   0.537843\n",
            "rouge2   0.280377  0.277224   0.278752\n",
            "rougeL   0.535763  0.529788   0.532686\n"
          ]
        }
      ]
    },
    {
      "cell_type": "code",
      "source": [
        "import numpy as np\n",
        "from rouge_score import rouge_scorer\n",
        "import pandas as pd\n",
        "\n",
        "def evaluate_rouge_scores(model, input_data, decoder_input_data, target_data, tokenizer):\n",
        "    # Prediction\n",
        "    pred_one_hot = model.predict([input_data, decoder_input_data])\n",
        "    pred_labels = np.argmax(pred_one_hot, axis=-1)\n",
        "\n",
        "    # Convert labels to text using the tokenizer\n",
        "    true_texts = [' '.join(tokenizer.sequences_to_texts([seq])) for seq in target_data.argmax(axis=-1)]\n",
        "    pred_texts = [' '.join(tokenizer.sequences_to_texts([seq])) for seq in pred_labels]\n",
        "\n",
        "    # Initialize ROUGE scorer, including ROUGE-S\n",
        "    scorer = rouge_scorer.RougeScorer(['rouge1', 'rouge2', 'rougeL', 'rougeLsum'], use_stemmer=True)\n",
        "    scores = [scorer.score(t, p) for t, p in zip(true_texts, pred_texts)]\n",
        "\n",
        "    # Prepare data for display\n",
        "    results = []\n",
        "    for score_dict in scores:\n",
        "        row = {}\n",
        "        for key, value in score_dict.items():\n",
        "            row[f'{key}_precision'] = value.precision\n",
        "            row[f'{key}_recall'] = value.recall\n",
        "            row[f'{key}_fmeasure'] = value.fmeasure\n",
        "        results.append(row)\n",
        "\n",
        "    # Convert list of dicts to DataFrame for easy visualization\n",
        "    results_df = pd.DataFrame(results)\n",
        "    average_results = results_df.mean()\n",
        "\n",
        "    return average_results\n",
        "\n",
        "# Example usage\n",
        "average_rouge_scores = evaluate_rouge_scores(model, test_input_sequences, test_decoder_input_data, test_decoder_target_data_one_hot, tokenizer)\n",
        "print(\"Average ROUGE Scores:\")\n",
        "print(average_rouge_scores.to_string())\n"
      ],
      "metadata": {
        "colab": {
          "base_uri": "https://localhost:8080/"
        },
        "id": "nmAvZKgFvF_g",
        "outputId": "5985df70-83f2-45c7-fd47-2f16fab95b54"
      },
      "execution_count": null,
      "outputs": [
        {
          "output_type": "stream",
          "name": "stdout",
          "text": [
            "32/32 [==============================] - 6s 200ms/step\n",
            "Average ROUGE Scores:\n",
            "rouge1_precision       0.540949\n",
            "rouge1_recall          0.534917\n",
            "rouge1_fmeasure        0.537843\n",
            "rouge2_precision       0.280377\n",
            "rouge2_recall          0.277224\n",
            "rouge2_fmeasure        0.278752\n",
            "rougeL_precision       0.535763\n",
            "rougeL_recall          0.529788\n",
            "rougeL_fmeasure        0.532686\n",
            "rougeLsum_precision    0.535763\n",
            "rougeLsum_recall       0.529788\n",
            "rougeLsum_fmeasure     0.532686\n"
          ]
        }
      ]
    },
    {
      "cell_type": "code",
      "source": [
        "def generate_summary(input_text, tokenizer, model, max_len_input, max_len_target):\n",
        "    # Preprocess the input text (tokenization and padding)\n",
        "    input_seq = tokenizer.texts_to_sequences([input_text])\n",
        "    input_seq = pad_sequences(input_seq, maxlen=max_len_input, padding='post')\n",
        "\n",
        "    # Initialize the sequence for the output summary with the start token\n",
        "    start_token, stop_token = '<start>', '<end>'\n",
        "    start_token_idx = tokenizer.word_index.get(start_token, 1)  # Default to 1 if not found\n",
        "    stop_token_idx = tokenizer.word_index.get(stop_token, 2)  # Default to 2 if not found\n",
        "\n",
        "    # Start with the start token\n",
        "    target_seq = np.zeros((1, 1))\n",
        "    target_seq[0, 0] = start_token_idx\n",
        "\n",
        "    # Initialize summary with empty list\n",
        "    summary = []\n",
        "\n",
        "    for i in range(max_len_target):\n",
        "        # Predict the next word\n",
        "        output_tokens = model.predict([input_seq, target_seq])\n",
        "        sampled_token_index = np.argmax(output_tokens[0, -1, :])\n",
        "        sampled_token = tokenizer.index_word[sampled_token_index] if sampled_token_index > 0 else None\n",
        "\n",
        "        # Check for stop condition: either hit stop token or max length\n",
        "        if sampled_token == stop_token or sampled_token is None:\n",
        "            break\n",
        "\n",
        "        # Append the token as part of the summary\n",
        "        summary.append(sampled_token)\n",
        "\n",
        "        # Update the target sequence (of length 1) to be the token just generated\n",
        "        target_seq = np.zeros((1, 1))\n",
        "        target_seq[0, 0] = sampled_token_index\n",
        "\n",
        "    return ' '.join(summary)\n",
        "\n",
        "# Example usage:\n",
        "new_document = \"My Name is abhinay\"\n",
        "summary = generate_summary(new_document, tokenizer, model, max_len_input, max_len_target)\n",
        "print(\"Generated Summary:\")\n",
        "print(summary)\n"
      ],
      "metadata": {
        "colab": {
          "base_uri": "https://localhost:8080/"
        },
        "id": "eSSrM9k39ABn",
        "outputId": "8a260ab7-a521-423a-95f4-b47bd7637a99"
      },
      "execution_count": null,
      "outputs": [
        {
          "output_type": "stream",
          "name": "stdout",
          "text": [
            "1/1 [==============================] - 0s 34ms/step\n",
            "1/1 [==============================] - 0s 34ms/step\n",
            "1/1 [==============================] - 0s 32ms/step\n",
            "1/1 [==============================] - 0s 34ms/step\n",
            "1/1 [==============================] - 0s 34ms/step\n",
            "1/1 [==============================] - 0s 34ms/step\n",
            "1/1 [==============================] - 0s 34ms/step\n",
            "1/1 [==============================] - 0s 33ms/step\n",
            "1/1 [==============================] - 0s 33ms/step\n",
            "1/1 [==============================] - 0s 34ms/step\n",
            "1/1 [==============================] - 0s 33ms/step\n",
            "1/1 [==============================] - 0s 33ms/step\n",
            "1/1 [==============================] - 0s 34ms/step\n",
            "1/1 [==============================] - 0s 34ms/step\n",
            "1/1 [==============================] - 0s 34ms/step\n",
            "1/1 [==============================] - 0s 33ms/step\n",
            "1/1 [==============================] - 0s 33ms/step\n",
            "1/1 [==============================] - 0s 33ms/step\n",
            "1/1 [==============================] - 0s 34ms/step\n",
            "1/1 [==============================] - 0s 34ms/step\n",
            "1/1 [==============================] - 0s 34ms/step\n",
            "1/1 [==============================] - 0s 34ms/step\n",
            "1/1 [==============================] - 0s 35ms/step\n",
            "1/1 [==============================] - 0s 33ms/step\n",
            "1/1 [==============================] - 0s 33ms/step\n",
            "1/1 [==============================] - 0s 35ms/step\n",
            "1/1 [==============================] - 0s 33ms/step\n",
            "1/1 [==============================] - 0s 33ms/step\n",
            "1/1 [==============================] - 0s 34ms/step\n",
            "1/1 [==============================] - 0s 33ms/step\n",
            "1/1 [==============================] - 0s 33ms/step\n",
            "1/1 [==============================] - 0s 33ms/step\n",
            "1/1 [==============================] - 0s 33ms/step\n",
            "1/1 [==============================] - 0s 33ms/step\n",
            "1/1 [==============================] - 0s 33ms/step\n",
            "1/1 [==============================] - 0s 33ms/step\n",
            "1/1 [==============================] - 0s 34ms/step\n",
            "1/1 [==============================] - 0s 33ms/step\n",
            "1/1 [==============================] - 0s 34ms/step\n",
            "1/1 [==============================] - 0s 34ms/step\n",
            "1/1 [==============================] - 0s 34ms/step\n",
            "1/1 [==============================] - 0s 33ms/step\n",
            "1/1 [==============================] - 0s 33ms/step\n",
            "1/1 [==============================] - 0s 33ms/step\n",
            "1/1 [==============================] - 0s 33ms/step\n",
            "1/1 [==============================] - 0s 34ms/step\n",
            "1/1 [==============================] - 0s 33ms/step\n",
            "1/1 [==============================] - 0s 33ms/step\n",
            "1/1 [==============================] - 0s 33ms/step\n",
            "1/1 [==============================] - 0s 33ms/step\n",
            "Generated Summary:\n",
            "polls regulations sense here fingers sense here fingers sense here fingers sense here fingers sense here fingers sense here fingers sense here fingers sense here fingers sense here fingers sense here fingers sense here fingers sense here fingers sense here fingers sense here fingers sense here fingers sense here fingers\n"
          ]
        }
      ]
    },
    {
      "cell_type": "code",
      "source": [
        "import numpy as np\n",
        "\n",
        "def generate_summary(input_text, tokenizer, model, max_len_input, max_len_target, temperature=1.0):\n",
        "    input_seq = tokenizer.texts_to_sequences([input_text])\n",
        "    input_seq = pad_sequences(input_seq, maxlen=max_len_input, padding='post')\n",
        "\n",
        "    start_token_idx = tokenizer.word_index.get('<start>', 1)\n",
        "    target_seq = np.array([[start_token_idx]])\n",
        "\n",
        "    summary = []\n",
        "\n",
        "    for i in range(max_len_target):\n",
        "        predictions = model.predict([input_seq, target_seq])[0, -1, :]\n",
        "        predictions = np.log(predictions) / temperature\n",
        "        exp_predictions = np.exp(predictions)\n",
        "        predictions = exp_predictions / np.sum(exp_predictions)\n",
        "        sampled_token_index = np.random.choice(len(predictions), p=predictions)\n",
        "\n",
        "        if sampled_token_index == tokenizer.word_index.get('<end>', 2):\n",
        "            break\n",
        "\n",
        "        sampled_token = tokenizer.index_word.get(sampled_token_index, None)\n",
        "        summary.append(sampled_token)\n",
        "\n",
        "        target_seq = np.array([[sampled_token_index]])\n",
        "\n",
        "    return ' '.join(summary)\n",
        "\n",
        "# Adjust 'temperature' as needed (values >1.0 increase diversity, <1.0 make outputs more deterministic)\n",
        "summary = generate_summary(new_document, tokenizer, model, max_len_input, max_len_target, temperature=0.8)\n",
        "print(\"Generated Summary:\")\n",
        "print(summary)\n"
      ],
      "metadata": {
        "colab": {
          "base_uri": "https://localhost:8080/"
        },
        "id": "aS-MyTP0IECC",
        "outputId": "22af9e52-6c18-4812-d780-665ded0ac494"
      },
      "execution_count": null,
      "outputs": [
        {
          "output_type": "stream",
          "name": "stdout",
          "text": [
            "1/1 [==============================] - 1s 1s/step\n",
            "1/1 [==============================] - 0s 37ms/step\n",
            "1/1 [==============================] - 0s 44ms/step\n",
            "1/1 [==============================] - 0s 35ms/step\n",
            "1/1 [==============================] - 0s 33ms/step\n",
            "1/1 [==============================] - 0s 34ms/step\n",
            "1/1 [==============================] - 0s 33ms/step\n",
            "1/1 [==============================] - 0s 33ms/step\n",
            "1/1 [==============================] - 0s 34ms/step\n",
            "1/1 [==============================] - 0s 33ms/step\n",
            "1/1 [==============================] - 0s 33ms/step\n",
            "1/1 [==============================] - 0s 32ms/step\n",
            "1/1 [==============================] - 0s 34ms/step\n",
            "1/1 [==============================] - 0s 33ms/step\n",
            "1/1 [==============================] - 0s 34ms/step\n",
            "1/1 [==============================] - 0s 34ms/step\n",
            "1/1 [==============================] - 0s 33ms/step\n",
            "1/1 [==============================] - 0s 34ms/step\n",
            "1/1 [==============================] - 0s 32ms/step\n",
            "1/1 [==============================] - 0s 33ms/step\n",
            "1/1 [==============================] - 0s 33ms/step\n",
            "1/1 [==============================] - 0s 33ms/step\n",
            "1/1 [==============================] - 0s 34ms/step\n",
            "1/1 [==============================] - 0s 35ms/step\n",
            "1/1 [==============================] - 0s 32ms/step\n",
            "1/1 [==============================] - 0s 34ms/step\n",
            "1/1 [==============================] - 0s 34ms/step\n",
            "1/1 [==============================] - 0s 33ms/step\n",
            "1/1 [==============================] - 0s 33ms/step\n",
            "1/1 [==============================] - 0s 34ms/step\n",
            "1/1 [==============================] - 0s 34ms/step\n",
            "1/1 [==============================] - 0s 33ms/step\n",
            "1/1 [==============================] - 0s 33ms/step\n",
            "1/1 [==============================] - 0s 34ms/step\n",
            "1/1 [==============================] - 0s 34ms/step\n",
            "1/1 [==============================] - 0s 35ms/step\n",
            "1/1 [==============================] - 0s 33ms/step\n",
            "1/1 [==============================] - 0s 33ms/step\n",
            "1/1 [==============================] - 0s 34ms/step\n",
            "1/1 [==============================] - 0s 35ms/step\n",
            "1/1 [==============================] - 0s 34ms/step\n",
            "1/1 [==============================] - 0s 36ms/step\n",
            "1/1 [==============================] - 0s 33ms/step\n",
            "1/1 [==============================] - 0s 33ms/step\n",
            "1/1 [==============================] - 0s 34ms/step\n",
            "1/1 [==============================] - 0s 33ms/step\n",
            "1/1 [==============================] - 0s 34ms/step\n",
            "1/1 [==============================] - 0s 33ms/step\n",
            "1/1 [==============================] - 0s 33ms/step\n",
            "1/1 [==============================] - 0s 34ms/step\n",
            "Generated Summary:\n",
            "polls pilot pilot donations averages regulations tweet quickly loves fingers suspended carolina sense patients gagnon regulations fingers suing invasion regulations immediately permanently regulations immediately sense suing manager fingers here regulations moms changes pilot regulations pilot fingers carolina regulations fingers prisons gagnon sense wasn't often fingers polls pilot loves pilot minutes\n"
          ]
        }
      ]
    },
    {
      "cell_type": "code",
      "source": [
        "# Load text from 'testdoc.txt'\n",
        "with open('testdoc.txt', 'r', encoding='utf-8') as file:\n",
        "    testdoc_text = file.read()\n",
        "\n",
        "# Preprocess the text\n",
        "testdoc_sequence = tokenizer.texts_to_sequences([testdoc_text])\n",
        "padded_testdoc_sequence = pad_sequences(testdoc_sequence, maxlen=max_len_input, padding='post')\n",
        "\n",
        "# Generate a summary\n",
        "test_decoder_input = np.zeros((1, 1))\n",
        "summary = \"\"\n",
        "for _ in range(max_len_target):\n",
        "    output_tokens = model.predict([padded_testdoc_sequence, test_decoder_input])\n",
        "    sampled_token_index = np.argmax(output_tokens[0, -1, :])\n",
        "    sampled_char = tokenizer.index_word[sampled_token_index]\n",
        "    summary += ' ' + sampled_char\n",
        "    test_decoder_input = np.array([[sampled_token_index]])\n",
        "    if sampled_char == '\\n':\n",
        "        break\n",
        "\n",
        "print(\"Generated summary:\", summary)"
      ],
      "metadata": {
        "colab": {
          "base_uri": "https://localhost:8080/"
        },
        "id": "GoEuwCzsJiIi",
        "outputId": "5612c737-c9bd-4b9c-9f81-e227f2a3d2c6"
      },
      "execution_count": null,
      "outputs": [
        {
          "output_type": "stream",
          "name": "stdout",
          "text": [
            "1/1 [==============================] - 0s 36ms/step\n",
            "1/1 [==============================] - 0s 36ms/step\n",
            "1/1 [==============================] - 0s 32ms/step\n",
            "1/1 [==============================] - 0s 34ms/step\n",
            "1/1 [==============================] - 0s 33ms/step\n",
            "1/1 [==============================] - 0s 34ms/step\n",
            "1/1 [==============================] - 0s 33ms/step\n",
            "1/1 [==============================] - 0s 34ms/step\n",
            "1/1 [==============================] - 0s 33ms/step\n",
            "1/1 [==============================] - 0s 33ms/step\n",
            "1/1 [==============================] - 0s 33ms/step\n",
            "1/1 [==============================] - 0s 34ms/step\n",
            "1/1 [==============================] - 0s 35ms/step\n",
            "1/1 [==============================] - 0s 33ms/step\n",
            "1/1 [==============================] - 0s 33ms/step\n",
            "1/1 [==============================] - 0s 33ms/step\n",
            "1/1 [==============================] - 0s 33ms/step\n",
            "1/1 [==============================] - 0s 33ms/step\n",
            "1/1 [==============================] - 0s 34ms/step\n",
            "1/1 [==============================] - 0s 33ms/step\n",
            "1/1 [==============================] - 0s 33ms/step\n",
            "1/1 [==============================] - 0s 34ms/step\n",
            "1/1 [==============================] - 0s 33ms/step\n",
            "1/1 [==============================] - 0s 33ms/step\n",
            "1/1 [==============================] - 0s 34ms/step\n",
            "1/1 [==============================] - 0s 33ms/step\n",
            "1/1 [==============================] - 0s 33ms/step\n",
            "1/1 [==============================] - 0s 33ms/step\n",
            "1/1 [==============================] - 0s 33ms/step\n",
            "1/1 [==============================] - 0s 33ms/step\n",
            "1/1 [==============================] - 0s 34ms/step\n",
            "1/1 [==============================] - 0s 34ms/step\n",
            "1/1 [==============================] - 0s 32ms/step\n",
            "1/1 [==============================] - 0s 33ms/step\n",
            "1/1 [==============================] - 0s 32ms/step\n",
            "1/1 [==============================] - 0s 32ms/step\n",
            "1/1 [==============================] - 0s 33ms/step\n",
            "1/1 [==============================] - 0s 33ms/step\n",
            "1/1 [==============================] - 0s 32ms/step\n",
            "1/1 [==============================] - 0s 35ms/step\n",
            "1/1 [==============================] - 0s 33ms/step\n",
            "1/1 [==============================] - 0s 33ms/step\n",
            "1/1 [==============================] - 0s 33ms/step\n",
            "1/1 [==============================] - 0s 34ms/step\n",
            "1/1 [==============================] - 0s 32ms/step\n",
            "1/1 [==============================] - 0s 33ms/step\n",
            "1/1 [==============================] - 0s 35ms/step\n",
            "1/1 [==============================] - 0s 34ms/step\n",
            "1/1 [==============================] - 0s 33ms/step\n",
            "1/1 [==============================] - 0s 33ms/step\n",
            "Generated summary:  sense here minutes minutes minutes minutes minutes minutes minutes minutes minutes minutes minutes minutes minutes minutes minutes minutes minutes minutes minutes minutes minutes minutes minutes minutes minutes minutes minutes minutes minutes minutes minutes minutes minutes minutes minutes minutes minutes minutes minutes minutes minutes minutes minutes minutes minutes minutes minutes minutes\n"
          ]
        }
      ]
    },
    {
      "cell_type": "code",
      "source": [],
      "metadata": {
        "id": "Ysz24sCaK2yA"
      },
      "execution_count": null,
      "outputs": []
    }
  ],
  "metadata": {
    "kernelspec": {
      "display_name": "Python 3",
      "name": "python3"
    },
    "language_info": {
      "codemirror_mode": {
        "name": "ipython",
        "version": 3
      },
      "file_extension": ".py",
      "mimetype": "text/x-python",
      "name": "python",
      "nbconvert_exporter": "python",
      "pygments_lexer": "ipython3",
      "version": "3.11.5"
    },
    "colab": {
      "provenance": [],
      "gpuType": "V28"
    },
    "accelerator": "TPU",
    "widgets": {
      "application/vnd.jupyter.widget-state+json": {
        "6512de43768d49c38e90c5423a22d99c": {
          "model_module": "@jupyter-widgets/controls",
          "model_name": "HBoxModel",
          "model_module_version": "1.5.0",
          "state": {
            "_dom_classes": [],
            "_model_module": "@jupyter-widgets/controls",
            "_model_module_version": "1.5.0",
            "_model_name": "HBoxModel",
            "_view_count": null,
            "_view_module": "@jupyter-widgets/controls",
            "_view_module_version": "1.5.0",
            "_view_name": "HBoxView",
            "box_style": "",
            "children": [
              "IPY_MODEL_fdac7a61a3e44665ab6ce344ed89a7cb",
              "IPY_MODEL_87bb0e3188ee4fed8e0f4ea8e8bd8f4b",
              "IPY_MODEL_a35ac5cc703948a787f0c1ae90085cea"
            ],
            "layout": "IPY_MODEL_4e1ed4762d4847e6aef9ed1af6d7e8e0"
          }
        },
        "fdac7a61a3e44665ab6ce344ed89a7cb": {
          "model_module": "@jupyter-widgets/controls",
          "model_name": "HTMLModel",
          "model_module_version": "1.5.0",
          "state": {
            "_dom_classes": [],
            "_model_module": "@jupyter-widgets/controls",
            "_model_module_version": "1.5.0",
            "_model_name": "HTMLModel",
            "_view_count": null,
            "_view_module": "@jupyter-widgets/controls",
            "_view_module_version": "1.5.0",
            "_view_name": "HTMLView",
            "description": "",
            "description_tooltip": null,
            "layout": "IPY_MODEL_336c1e856e7e4ee9a38a888e68109503",
            "placeholder": "​",
            "style": "IPY_MODEL_0503c205544642e9bc46c1d624a037ea",
            "value": "Downloading readme: 100%"
          }
        },
        "87bb0e3188ee4fed8e0f4ea8e8bd8f4b": {
          "model_module": "@jupyter-widgets/controls",
          "model_name": "FloatProgressModel",
          "model_module_version": "1.5.0",
          "state": {
            "_dom_classes": [],
            "_model_module": "@jupyter-widgets/controls",
            "_model_module_version": "1.5.0",
            "_model_name": "FloatProgressModel",
            "_view_count": null,
            "_view_module": "@jupyter-widgets/controls",
            "_view_module_version": "1.5.0",
            "_view_name": "ProgressView",
            "bar_style": "success",
            "description": "",
            "description_tooltip": null,
            "layout": "IPY_MODEL_b05cb52562234656a90cb1251df2023b",
            "max": 1840,
            "min": 0,
            "orientation": "horizontal",
            "style": "IPY_MODEL_e8506cb44ac946c5b816e0a5446b29fe",
            "value": 1840
          }
        },
        "a35ac5cc703948a787f0c1ae90085cea": {
          "model_module": "@jupyter-widgets/controls",
          "model_name": "HTMLModel",
          "model_module_version": "1.5.0",
          "state": {
            "_dom_classes": [],
            "_model_module": "@jupyter-widgets/controls",
            "_model_module_version": "1.5.0",
            "_model_name": "HTMLModel",
            "_view_count": null,
            "_view_module": "@jupyter-widgets/controls",
            "_view_module_version": "1.5.0",
            "_view_name": "HTMLView",
            "description": "",
            "description_tooltip": null,
            "layout": "IPY_MODEL_39cc6b0ef91a4f5494f3eb8ddcbc5adc",
            "placeholder": "​",
            "style": "IPY_MODEL_3cafa3b2db8b4bbd8f885f0691f16dce",
            "value": " 1.84k/1.84k [00:00&lt;00:00, 183kB/s]"
          }
        },
        "4e1ed4762d4847e6aef9ed1af6d7e8e0": {
          "model_module": "@jupyter-widgets/base",
          "model_name": "LayoutModel",
          "model_module_version": "1.2.0",
          "state": {
            "_model_module": "@jupyter-widgets/base",
            "_model_module_version": "1.2.0",
            "_model_name": "LayoutModel",
            "_view_count": null,
            "_view_module": "@jupyter-widgets/base",
            "_view_module_version": "1.2.0",
            "_view_name": "LayoutView",
            "align_content": null,
            "align_items": null,
            "align_self": null,
            "border": null,
            "bottom": null,
            "display": null,
            "flex": null,
            "flex_flow": null,
            "grid_area": null,
            "grid_auto_columns": null,
            "grid_auto_flow": null,
            "grid_auto_rows": null,
            "grid_column": null,
            "grid_gap": null,
            "grid_row": null,
            "grid_template_areas": null,
            "grid_template_columns": null,
            "grid_template_rows": null,
            "height": null,
            "justify_content": null,
            "justify_items": null,
            "left": null,
            "margin": null,
            "max_height": null,
            "max_width": null,
            "min_height": null,
            "min_width": null,
            "object_fit": null,
            "object_position": null,
            "order": null,
            "overflow": null,
            "overflow_x": null,
            "overflow_y": null,
            "padding": null,
            "right": null,
            "top": null,
            "visibility": null,
            "width": null
          }
        },
        "336c1e856e7e4ee9a38a888e68109503": {
          "model_module": "@jupyter-widgets/base",
          "model_name": "LayoutModel",
          "model_module_version": "1.2.0",
          "state": {
            "_model_module": "@jupyter-widgets/base",
            "_model_module_version": "1.2.0",
            "_model_name": "LayoutModel",
            "_view_count": null,
            "_view_module": "@jupyter-widgets/base",
            "_view_module_version": "1.2.0",
            "_view_name": "LayoutView",
            "align_content": null,
            "align_items": null,
            "align_self": null,
            "border": null,
            "bottom": null,
            "display": null,
            "flex": null,
            "flex_flow": null,
            "grid_area": null,
            "grid_auto_columns": null,
            "grid_auto_flow": null,
            "grid_auto_rows": null,
            "grid_column": null,
            "grid_gap": null,
            "grid_row": null,
            "grid_template_areas": null,
            "grid_template_columns": null,
            "grid_template_rows": null,
            "height": null,
            "justify_content": null,
            "justify_items": null,
            "left": null,
            "margin": null,
            "max_height": null,
            "max_width": null,
            "min_height": null,
            "min_width": null,
            "object_fit": null,
            "object_position": null,
            "order": null,
            "overflow": null,
            "overflow_x": null,
            "overflow_y": null,
            "padding": null,
            "right": null,
            "top": null,
            "visibility": null,
            "width": null
          }
        },
        "0503c205544642e9bc46c1d624a037ea": {
          "model_module": "@jupyter-widgets/controls",
          "model_name": "DescriptionStyleModel",
          "model_module_version": "1.5.0",
          "state": {
            "_model_module": "@jupyter-widgets/controls",
            "_model_module_version": "1.5.0",
            "_model_name": "DescriptionStyleModel",
            "_view_count": null,
            "_view_module": "@jupyter-widgets/base",
            "_view_module_version": "1.2.0",
            "_view_name": "StyleView",
            "description_width": ""
          }
        },
        "b05cb52562234656a90cb1251df2023b": {
          "model_module": "@jupyter-widgets/base",
          "model_name": "LayoutModel",
          "model_module_version": "1.2.0",
          "state": {
            "_model_module": "@jupyter-widgets/base",
            "_model_module_version": "1.2.0",
            "_model_name": "LayoutModel",
            "_view_count": null,
            "_view_module": "@jupyter-widgets/base",
            "_view_module_version": "1.2.0",
            "_view_name": "LayoutView",
            "align_content": null,
            "align_items": null,
            "align_self": null,
            "border": null,
            "bottom": null,
            "display": null,
            "flex": null,
            "flex_flow": null,
            "grid_area": null,
            "grid_auto_columns": null,
            "grid_auto_flow": null,
            "grid_auto_rows": null,
            "grid_column": null,
            "grid_gap": null,
            "grid_row": null,
            "grid_template_areas": null,
            "grid_template_columns": null,
            "grid_template_rows": null,
            "height": null,
            "justify_content": null,
            "justify_items": null,
            "left": null,
            "margin": null,
            "max_height": null,
            "max_width": null,
            "min_height": null,
            "min_width": null,
            "object_fit": null,
            "object_position": null,
            "order": null,
            "overflow": null,
            "overflow_x": null,
            "overflow_y": null,
            "padding": null,
            "right": null,
            "top": null,
            "visibility": null,
            "width": null
          }
        },
        "e8506cb44ac946c5b816e0a5446b29fe": {
          "model_module": "@jupyter-widgets/controls",
          "model_name": "ProgressStyleModel",
          "model_module_version": "1.5.0",
          "state": {
            "_model_module": "@jupyter-widgets/controls",
            "_model_module_version": "1.5.0",
            "_model_name": "ProgressStyleModel",
            "_view_count": null,
            "_view_module": "@jupyter-widgets/base",
            "_view_module_version": "1.2.0",
            "_view_name": "StyleView",
            "bar_color": null,
            "description_width": ""
          }
        },
        "39cc6b0ef91a4f5494f3eb8ddcbc5adc": {
          "model_module": "@jupyter-widgets/base",
          "model_name": "LayoutModel",
          "model_module_version": "1.2.0",
          "state": {
            "_model_module": "@jupyter-widgets/base",
            "_model_module_version": "1.2.0",
            "_model_name": "LayoutModel",
            "_view_count": null,
            "_view_module": "@jupyter-widgets/base",
            "_view_module_version": "1.2.0",
            "_view_name": "LayoutView",
            "align_content": null,
            "align_items": null,
            "align_self": null,
            "border": null,
            "bottom": null,
            "display": null,
            "flex": null,
            "flex_flow": null,
            "grid_area": null,
            "grid_auto_columns": null,
            "grid_auto_flow": null,
            "grid_auto_rows": null,
            "grid_column": null,
            "grid_gap": null,
            "grid_row": null,
            "grid_template_areas": null,
            "grid_template_columns": null,
            "grid_template_rows": null,
            "height": null,
            "justify_content": null,
            "justify_items": null,
            "left": null,
            "margin": null,
            "max_height": null,
            "max_width": null,
            "min_height": null,
            "min_width": null,
            "object_fit": null,
            "object_position": null,
            "order": null,
            "overflow": null,
            "overflow_x": null,
            "overflow_y": null,
            "padding": null,
            "right": null,
            "top": null,
            "visibility": null,
            "width": null
          }
        },
        "3cafa3b2db8b4bbd8f885f0691f16dce": {
          "model_module": "@jupyter-widgets/controls",
          "model_name": "DescriptionStyleModel",
          "model_module_version": "1.5.0",
          "state": {
            "_model_module": "@jupyter-widgets/controls",
            "_model_module_version": "1.5.0",
            "_model_name": "DescriptionStyleModel",
            "_view_count": null,
            "_view_module": "@jupyter-widgets/base",
            "_view_module_version": "1.2.0",
            "_view_name": "StyleView",
            "description_width": ""
          }
        },
        "3131ea177e6f4a17b970cd2d06969767": {
          "model_module": "@jupyter-widgets/controls",
          "model_name": "HBoxModel",
          "model_module_version": "1.5.0",
          "state": {
            "_dom_classes": [],
            "_model_module": "@jupyter-widgets/controls",
            "_model_module_version": "1.5.0",
            "_model_name": "HBoxModel",
            "_view_count": null,
            "_view_module": "@jupyter-widgets/controls",
            "_view_module_version": "1.5.0",
            "_view_name": "HBoxView",
            "box_style": "",
            "children": [
              "IPY_MODEL_74d0716367bb4efdb50ac3c0bb9c110c",
              "IPY_MODEL_1c9a2a1ce75347f4a9b8d1b5bde2811b",
              "IPY_MODEL_719706807b99484bb2cad411ca6b4dd2"
            ],
            "layout": "IPY_MODEL_ae35a64526f7436383330a0bbdf6b946"
          }
        },
        "74d0716367bb4efdb50ac3c0bb9c110c": {
          "model_module": "@jupyter-widgets/controls",
          "model_name": "HTMLModel",
          "model_module_version": "1.5.0",
          "state": {
            "_dom_classes": [],
            "_model_module": "@jupyter-widgets/controls",
            "_model_module_version": "1.5.0",
            "_model_name": "HTMLModel",
            "_view_count": null,
            "_view_module": "@jupyter-widgets/controls",
            "_view_module_version": "1.5.0",
            "_view_name": "HTMLView",
            "description": "",
            "description_tooltip": null,
            "layout": "IPY_MODEL_6b5028a8028f413f8d898f89e0a49bc4",
            "placeholder": "​",
            "style": "IPY_MODEL_b4ad9b472eef472d97c7f1aa529e7c56",
            "value": "Downloading metadata: 100%"
          }
        },
        "1c9a2a1ce75347f4a9b8d1b5bde2811b": {
          "model_module": "@jupyter-widgets/controls",
          "model_name": "FloatProgressModel",
          "model_module_version": "1.5.0",
          "state": {
            "_dom_classes": [],
            "_model_module": "@jupyter-widgets/controls",
            "_model_module_version": "1.5.0",
            "_model_name": "FloatProgressModel",
            "_view_count": null,
            "_view_module": "@jupyter-widgets/controls",
            "_view_module_version": "1.5.0",
            "_view_name": "ProgressView",
            "bar_style": "success",
            "description": "",
            "description_tooltip": null,
            "layout": "IPY_MODEL_a020b69227004d508874176e1b586f5b",
            "max": 1794,
            "min": 0,
            "orientation": "horizontal",
            "style": "IPY_MODEL_812b643f5b834213896d379d333bd0ac",
            "value": 1794
          }
        },
        "719706807b99484bb2cad411ca6b4dd2": {
          "model_module": "@jupyter-widgets/controls",
          "model_name": "HTMLModel",
          "model_module_version": "1.5.0",
          "state": {
            "_dom_classes": [],
            "_model_module": "@jupyter-widgets/controls",
            "_model_module_version": "1.5.0",
            "_model_name": "HTMLModel",
            "_view_count": null,
            "_view_module": "@jupyter-widgets/controls",
            "_view_module_version": "1.5.0",
            "_view_name": "HTMLView",
            "description": "",
            "description_tooltip": null,
            "layout": "IPY_MODEL_6e107f0e0d3f43e28db9caa0b6d8ec3a",
            "placeholder": "​",
            "style": "IPY_MODEL_c6554a5c30fe4f03b39982967dbeb975",
            "value": " 1.79k/1.79k [00:00&lt;00:00, 166kB/s]"
          }
        },
        "ae35a64526f7436383330a0bbdf6b946": {
          "model_module": "@jupyter-widgets/base",
          "model_name": "LayoutModel",
          "model_module_version": "1.2.0",
          "state": {
            "_model_module": "@jupyter-widgets/base",
            "_model_module_version": "1.2.0",
            "_model_name": "LayoutModel",
            "_view_count": null,
            "_view_module": "@jupyter-widgets/base",
            "_view_module_version": "1.2.0",
            "_view_name": "LayoutView",
            "align_content": null,
            "align_items": null,
            "align_self": null,
            "border": null,
            "bottom": null,
            "display": null,
            "flex": null,
            "flex_flow": null,
            "grid_area": null,
            "grid_auto_columns": null,
            "grid_auto_flow": null,
            "grid_auto_rows": null,
            "grid_column": null,
            "grid_gap": null,
            "grid_row": null,
            "grid_template_areas": null,
            "grid_template_columns": null,
            "grid_template_rows": null,
            "height": null,
            "justify_content": null,
            "justify_items": null,
            "left": null,
            "margin": null,
            "max_height": null,
            "max_width": null,
            "min_height": null,
            "min_width": null,
            "object_fit": null,
            "object_position": null,
            "order": null,
            "overflow": null,
            "overflow_x": null,
            "overflow_y": null,
            "padding": null,
            "right": null,
            "top": null,
            "visibility": null,
            "width": null
          }
        },
        "6b5028a8028f413f8d898f89e0a49bc4": {
          "model_module": "@jupyter-widgets/base",
          "model_name": "LayoutModel",
          "model_module_version": "1.2.0",
          "state": {
            "_model_module": "@jupyter-widgets/base",
            "_model_module_version": "1.2.0",
            "_model_name": "LayoutModel",
            "_view_count": null,
            "_view_module": "@jupyter-widgets/base",
            "_view_module_version": "1.2.0",
            "_view_name": "LayoutView",
            "align_content": null,
            "align_items": null,
            "align_self": null,
            "border": null,
            "bottom": null,
            "display": null,
            "flex": null,
            "flex_flow": null,
            "grid_area": null,
            "grid_auto_columns": null,
            "grid_auto_flow": null,
            "grid_auto_rows": null,
            "grid_column": null,
            "grid_gap": null,
            "grid_row": null,
            "grid_template_areas": null,
            "grid_template_columns": null,
            "grid_template_rows": null,
            "height": null,
            "justify_content": null,
            "justify_items": null,
            "left": null,
            "margin": null,
            "max_height": null,
            "max_width": null,
            "min_height": null,
            "min_width": null,
            "object_fit": null,
            "object_position": null,
            "order": null,
            "overflow": null,
            "overflow_x": null,
            "overflow_y": null,
            "padding": null,
            "right": null,
            "top": null,
            "visibility": null,
            "width": null
          }
        },
        "b4ad9b472eef472d97c7f1aa529e7c56": {
          "model_module": "@jupyter-widgets/controls",
          "model_name": "DescriptionStyleModel",
          "model_module_version": "1.5.0",
          "state": {
            "_model_module": "@jupyter-widgets/controls",
            "_model_module_version": "1.5.0",
            "_model_name": "DescriptionStyleModel",
            "_view_count": null,
            "_view_module": "@jupyter-widgets/base",
            "_view_module_version": "1.2.0",
            "_view_name": "StyleView",
            "description_width": ""
          }
        },
        "a020b69227004d508874176e1b586f5b": {
          "model_module": "@jupyter-widgets/base",
          "model_name": "LayoutModel",
          "model_module_version": "1.2.0",
          "state": {
            "_model_module": "@jupyter-widgets/base",
            "_model_module_version": "1.2.0",
            "_model_name": "LayoutModel",
            "_view_count": null,
            "_view_module": "@jupyter-widgets/base",
            "_view_module_version": "1.2.0",
            "_view_name": "LayoutView",
            "align_content": null,
            "align_items": null,
            "align_self": null,
            "border": null,
            "bottom": null,
            "display": null,
            "flex": null,
            "flex_flow": null,
            "grid_area": null,
            "grid_auto_columns": null,
            "grid_auto_flow": null,
            "grid_auto_rows": null,
            "grid_column": null,
            "grid_gap": null,
            "grid_row": null,
            "grid_template_areas": null,
            "grid_template_columns": null,
            "grid_template_rows": null,
            "height": null,
            "justify_content": null,
            "justify_items": null,
            "left": null,
            "margin": null,
            "max_height": null,
            "max_width": null,
            "min_height": null,
            "min_width": null,
            "object_fit": null,
            "object_position": null,
            "order": null,
            "overflow": null,
            "overflow_x": null,
            "overflow_y": null,
            "padding": null,
            "right": null,
            "top": null,
            "visibility": null,
            "width": null
          }
        },
        "812b643f5b834213896d379d333bd0ac": {
          "model_module": "@jupyter-widgets/controls",
          "model_name": "ProgressStyleModel",
          "model_module_version": "1.5.0",
          "state": {
            "_model_module": "@jupyter-widgets/controls",
            "_model_module_version": "1.5.0",
            "_model_name": "ProgressStyleModel",
            "_view_count": null,
            "_view_module": "@jupyter-widgets/base",
            "_view_module_version": "1.2.0",
            "_view_name": "StyleView",
            "bar_color": null,
            "description_width": ""
          }
        },
        "6e107f0e0d3f43e28db9caa0b6d8ec3a": {
          "model_module": "@jupyter-widgets/base",
          "model_name": "LayoutModel",
          "model_module_version": "1.2.0",
          "state": {
            "_model_module": "@jupyter-widgets/base",
            "_model_module_version": "1.2.0",
            "_model_name": "LayoutModel",
            "_view_count": null,
            "_view_module": "@jupyter-widgets/base",
            "_view_module_version": "1.2.0",
            "_view_name": "LayoutView",
            "align_content": null,
            "align_items": null,
            "align_self": null,
            "border": null,
            "bottom": null,
            "display": null,
            "flex": null,
            "flex_flow": null,
            "grid_area": null,
            "grid_auto_columns": null,
            "grid_auto_flow": null,
            "grid_auto_rows": null,
            "grid_column": null,
            "grid_gap": null,
            "grid_row": null,
            "grid_template_areas": null,
            "grid_template_columns": null,
            "grid_template_rows": null,
            "height": null,
            "justify_content": null,
            "justify_items": null,
            "left": null,
            "margin": null,
            "max_height": null,
            "max_width": null,
            "min_height": null,
            "min_width": null,
            "object_fit": null,
            "object_position": null,
            "order": null,
            "overflow": null,
            "overflow_x": null,
            "overflow_y": null,
            "padding": null,
            "right": null,
            "top": null,
            "visibility": null,
            "width": null
          }
        },
        "c6554a5c30fe4f03b39982967dbeb975": {
          "model_module": "@jupyter-widgets/controls",
          "model_name": "DescriptionStyleModel",
          "model_module_version": "1.5.0",
          "state": {
            "_model_module": "@jupyter-widgets/controls",
            "_model_module_version": "1.5.0",
            "_model_name": "DescriptionStyleModel",
            "_view_count": null,
            "_view_module": "@jupyter-widgets/base",
            "_view_module_version": "1.2.0",
            "_view_name": "StyleView",
            "description_width": ""
          }
        },
        "a286ffa9a63744bca012c41250443f17": {
          "model_module": "@jupyter-widgets/controls",
          "model_name": "HBoxModel",
          "model_module_version": "1.5.0",
          "state": {
            "_dom_classes": [],
            "_model_module": "@jupyter-widgets/controls",
            "_model_module_version": "1.5.0",
            "_model_name": "HBoxModel",
            "_view_count": null,
            "_view_module": "@jupyter-widgets/controls",
            "_view_module_version": "1.5.0",
            "_view_name": "HBoxView",
            "box_style": "",
            "children": [
              "IPY_MODEL_c534750f4749417a90e7a5ccedc092e3",
              "IPY_MODEL_1a975a6d494e403a86dce12be91f9f6b",
              "IPY_MODEL_2eb876ed98d84e3b839bd9499b3e74b0"
            ],
            "layout": "IPY_MODEL_419c9b747a8c47f8ada58920b6f75218"
          }
        },
        "c534750f4749417a90e7a5ccedc092e3": {
          "model_module": "@jupyter-widgets/controls",
          "model_name": "HTMLModel",
          "model_module_version": "1.5.0",
          "state": {
            "_dom_classes": [],
            "_model_module": "@jupyter-widgets/controls",
            "_model_module_version": "1.5.0",
            "_model_name": "HTMLModel",
            "_view_count": null,
            "_view_module": "@jupyter-widgets/controls",
            "_view_module_version": "1.5.0",
            "_view_name": "HTMLView",
            "description": "",
            "description_tooltip": null,
            "layout": "IPY_MODEL_f9a18c6544974faf850de459f615d5c3",
            "placeholder": "​",
            "style": "IPY_MODEL_592533137d8d441fab022d1bbdac525a",
            "value": "Generating train split: 100%"
          }
        },
        "1a975a6d494e403a86dce12be91f9f6b": {
          "model_module": "@jupyter-widgets/controls",
          "model_name": "FloatProgressModel",
          "model_module_version": "1.5.0",
          "state": {
            "_dom_classes": [],
            "_model_module": "@jupyter-widgets/controls",
            "_model_module_version": "1.5.0",
            "_model_name": "FloatProgressModel",
            "_view_count": null,
            "_view_module": "@jupyter-widgets/controls",
            "_view_module_version": "1.5.0",
            "_view_name": "ProgressView",
            "bar_style": "success",
            "description": "",
            "description_tooltip": null,
            "layout": "IPY_MODEL_ab503d69f9b34422a60e64efd4afb1bf",
            "max": 44972,
            "min": 0,
            "orientation": "horizontal",
            "style": "IPY_MODEL_6b4b0c3a717d40b9a0bb80c8bdc8c9fe",
            "value": 44972
          }
        },
        "2eb876ed98d84e3b839bd9499b3e74b0": {
          "model_module": "@jupyter-widgets/controls",
          "model_name": "HTMLModel",
          "model_module_version": "1.5.0",
          "state": {
            "_dom_classes": [],
            "_model_module": "@jupyter-widgets/controls",
            "_model_module_version": "1.5.0",
            "_model_name": "HTMLModel",
            "_view_count": null,
            "_view_module": "@jupyter-widgets/controls",
            "_view_module_version": "1.5.0",
            "_view_name": "HTMLView",
            "description": "",
            "description_tooltip": null,
            "layout": "IPY_MODEL_3a27fcbacb8746a09df00a43d3a92511",
            "placeholder": "​",
            "style": "IPY_MODEL_5b2c40a4b46743b7b3a3c99783f73f20",
            "value": " 44972/44972 [00:02&lt;00:00, 18821.93 examples/s]"
          }
        },
        "419c9b747a8c47f8ada58920b6f75218": {
          "model_module": "@jupyter-widgets/base",
          "model_name": "LayoutModel",
          "model_module_version": "1.2.0",
          "state": {
            "_model_module": "@jupyter-widgets/base",
            "_model_module_version": "1.2.0",
            "_model_name": "LayoutModel",
            "_view_count": null,
            "_view_module": "@jupyter-widgets/base",
            "_view_module_version": "1.2.0",
            "_view_name": "LayoutView",
            "align_content": null,
            "align_items": null,
            "align_self": null,
            "border": null,
            "bottom": null,
            "display": null,
            "flex": null,
            "flex_flow": null,
            "grid_area": null,
            "grid_auto_columns": null,
            "grid_auto_flow": null,
            "grid_auto_rows": null,
            "grid_column": null,
            "grid_gap": null,
            "grid_row": null,
            "grid_template_areas": null,
            "grid_template_columns": null,
            "grid_template_rows": null,
            "height": null,
            "justify_content": null,
            "justify_items": null,
            "left": null,
            "margin": null,
            "max_height": null,
            "max_width": null,
            "min_height": null,
            "min_width": null,
            "object_fit": null,
            "object_position": null,
            "order": null,
            "overflow": null,
            "overflow_x": null,
            "overflow_y": null,
            "padding": null,
            "right": null,
            "top": null,
            "visibility": null,
            "width": null
          }
        },
        "f9a18c6544974faf850de459f615d5c3": {
          "model_module": "@jupyter-widgets/base",
          "model_name": "LayoutModel",
          "model_module_version": "1.2.0",
          "state": {
            "_model_module": "@jupyter-widgets/base",
            "_model_module_version": "1.2.0",
            "_model_name": "LayoutModel",
            "_view_count": null,
            "_view_module": "@jupyter-widgets/base",
            "_view_module_version": "1.2.0",
            "_view_name": "LayoutView",
            "align_content": null,
            "align_items": null,
            "align_self": null,
            "border": null,
            "bottom": null,
            "display": null,
            "flex": null,
            "flex_flow": null,
            "grid_area": null,
            "grid_auto_columns": null,
            "grid_auto_flow": null,
            "grid_auto_rows": null,
            "grid_column": null,
            "grid_gap": null,
            "grid_row": null,
            "grid_template_areas": null,
            "grid_template_columns": null,
            "grid_template_rows": null,
            "height": null,
            "justify_content": null,
            "justify_items": null,
            "left": null,
            "margin": null,
            "max_height": null,
            "max_width": null,
            "min_height": null,
            "min_width": null,
            "object_fit": null,
            "object_position": null,
            "order": null,
            "overflow": null,
            "overflow_x": null,
            "overflow_y": null,
            "padding": null,
            "right": null,
            "top": null,
            "visibility": null,
            "width": null
          }
        },
        "592533137d8d441fab022d1bbdac525a": {
          "model_module": "@jupyter-widgets/controls",
          "model_name": "DescriptionStyleModel",
          "model_module_version": "1.5.0",
          "state": {
            "_model_module": "@jupyter-widgets/controls",
            "_model_module_version": "1.5.0",
            "_model_name": "DescriptionStyleModel",
            "_view_count": null,
            "_view_module": "@jupyter-widgets/base",
            "_view_module_version": "1.2.0",
            "_view_name": "StyleView",
            "description_width": ""
          }
        },
        "ab503d69f9b34422a60e64efd4afb1bf": {
          "model_module": "@jupyter-widgets/base",
          "model_name": "LayoutModel",
          "model_module_version": "1.2.0",
          "state": {
            "_model_module": "@jupyter-widgets/base",
            "_model_module_version": "1.2.0",
            "_model_name": "LayoutModel",
            "_view_count": null,
            "_view_module": "@jupyter-widgets/base",
            "_view_module_version": "1.2.0",
            "_view_name": "LayoutView",
            "align_content": null,
            "align_items": null,
            "align_self": null,
            "border": null,
            "bottom": null,
            "display": null,
            "flex": null,
            "flex_flow": null,
            "grid_area": null,
            "grid_auto_columns": null,
            "grid_auto_flow": null,
            "grid_auto_rows": null,
            "grid_column": null,
            "grid_gap": null,
            "grid_row": null,
            "grid_template_areas": null,
            "grid_template_columns": null,
            "grid_template_rows": null,
            "height": null,
            "justify_content": null,
            "justify_items": null,
            "left": null,
            "margin": null,
            "max_height": null,
            "max_width": null,
            "min_height": null,
            "min_width": null,
            "object_fit": null,
            "object_position": null,
            "order": null,
            "overflow": null,
            "overflow_x": null,
            "overflow_y": null,
            "padding": null,
            "right": null,
            "top": null,
            "visibility": null,
            "width": null
          }
        },
        "6b4b0c3a717d40b9a0bb80c8bdc8c9fe": {
          "model_module": "@jupyter-widgets/controls",
          "model_name": "ProgressStyleModel",
          "model_module_version": "1.5.0",
          "state": {
            "_model_module": "@jupyter-widgets/controls",
            "_model_module_version": "1.5.0",
            "_model_name": "ProgressStyleModel",
            "_view_count": null,
            "_view_module": "@jupyter-widgets/base",
            "_view_module_version": "1.2.0",
            "_view_name": "StyleView",
            "bar_color": null,
            "description_width": ""
          }
        },
        "3a27fcbacb8746a09df00a43d3a92511": {
          "model_module": "@jupyter-widgets/base",
          "model_name": "LayoutModel",
          "model_module_version": "1.2.0",
          "state": {
            "_model_module": "@jupyter-widgets/base",
            "_model_module_version": "1.2.0",
            "_model_name": "LayoutModel",
            "_view_count": null,
            "_view_module": "@jupyter-widgets/base",
            "_view_module_version": "1.2.0",
            "_view_name": "LayoutView",
            "align_content": null,
            "align_items": null,
            "align_self": null,
            "border": null,
            "bottom": null,
            "display": null,
            "flex": null,
            "flex_flow": null,
            "grid_area": null,
            "grid_auto_columns": null,
            "grid_auto_flow": null,
            "grid_auto_rows": null,
            "grid_column": null,
            "grid_gap": null,
            "grid_row": null,
            "grid_template_areas": null,
            "grid_template_columns": null,
            "grid_template_rows": null,
            "height": null,
            "justify_content": null,
            "justify_items": null,
            "left": null,
            "margin": null,
            "max_height": null,
            "max_width": null,
            "min_height": null,
            "min_width": null,
            "object_fit": null,
            "object_position": null,
            "order": null,
            "overflow": null,
            "overflow_x": null,
            "overflow_y": null,
            "padding": null,
            "right": null,
            "top": null,
            "visibility": null,
            "width": null
          }
        },
        "5b2c40a4b46743b7b3a3c99783f73f20": {
          "model_module": "@jupyter-widgets/controls",
          "model_name": "DescriptionStyleModel",
          "model_module_version": "1.5.0",
          "state": {
            "_model_module": "@jupyter-widgets/controls",
            "_model_module_version": "1.5.0",
            "_model_name": "DescriptionStyleModel",
            "_view_count": null,
            "_view_module": "@jupyter-widgets/base",
            "_view_module_version": "1.2.0",
            "_view_name": "StyleView",
            "description_width": ""
          }
        },
        "4afda05204264c29a0533c493598c8a7": {
          "model_module": "@jupyter-widgets/controls",
          "model_name": "HBoxModel",
          "model_module_version": "1.5.0",
          "state": {
            "_dom_classes": [],
            "_model_module": "@jupyter-widgets/controls",
            "_model_module_version": "1.5.0",
            "_model_name": "HBoxModel",
            "_view_count": null,
            "_view_module": "@jupyter-widgets/controls",
            "_view_module_version": "1.5.0",
            "_view_name": "HBoxView",
            "box_style": "",
            "children": [
              "IPY_MODEL_6c1bbef59d6b4f08adb8661f24a25e15",
              "IPY_MODEL_ea7c58c41fd8468cb98e9ed31ead48e2",
              "IPY_MODEL_d21004c93b1a4f4d83f80eb91de96f3a"
            ],
            "layout": "IPY_MODEL_3f25c9ad76a44ac88de9525f5641162c"
          }
        },
        "6c1bbef59d6b4f08adb8661f24a25e15": {
          "model_module": "@jupyter-widgets/controls",
          "model_name": "HTMLModel",
          "model_module_version": "1.5.0",
          "state": {
            "_dom_classes": [],
            "_model_module": "@jupyter-widgets/controls",
            "_model_module_version": "1.5.0",
            "_model_name": "HTMLModel",
            "_view_count": null,
            "_view_module": "@jupyter-widgets/controls",
            "_view_module_version": "1.5.0",
            "_view_name": "HTMLView",
            "description": "",
            "description_tooltip": null,
            "layout": "IPY_MODEL_6f3e7bb1f7b94aa1a3725f169f25e119",
            "placeholder": "​",
            "style": "IPY_MODEL_cf203461f7064007a20c1b2a0709092b",
            "value": "Generating validation split: 100%"
          }
        },
        "ea7c58c41fd8468cb98e9ed31ead48e2": {
          "model_module": "@jupyter-widgets/controls",
          "model_name": "FloatProgressModel",
          "model_module_version": "1.5.0",
          "state": {
            "_dom_classes": [],
            "_model_module": "@jupyter-widgets/controls",
            "_model_module_version": "1.5.0",
            "_model_name": "FloatProgressModel",
            "_view_count": null,
            "_view_module": "@jupyter-widgets/controls",
            "_view_module_version": "1.5.0",
            "_view_name": "ProgressView",
            "bar_style": "success",
            "description": "",
            "description_tooltip": null,
            "layout": "IPY_MODEL_389867d4b48b4752a0ec5a4a86da11f7",
            "max": 5622,
            "min": 0,
            "orientation": "horizontal",
            "style": "IPY_MODEL_4d5878d4c57c47fca2f62d2c6e846305",
            "value": 5622
          }
        },
        "d21004c93b1a4f4d83f80eb91de96f3a": {
          "model_module": "@jupyter-widgets/controls",
          "model_name": "HTMLModel",
          "model_module_version": "1.5.0",
          "state": {
            "_dom_classes": [],
            "_model_module": "@jupyter-widgets/controls",
            "_model_module_version": "1.5.0",
            "_model_name": "HTMLModel",
            "_view_count": null,
            "_view_module": "@jupyter-widgets/controls",
            "_view_module_version": "1.5.0",
            "_view_name": "HTMLView",
            "description": "",
            "description_tooltip": null,
            "layout": "IPY_MODEL_598987a470cd4993b577b0755b6eb340",
            "placeholder": "​",
            "style": "IPY_MODEL_22396a2e4e144472976f234662a48abb",
            "value": " 5622/5622 [00:00&lt;00:00, 18624.51 examples/s]"
          }
        },
        "3f25c9ad76a44ac88de9525f5641162c": {
          "model_module": "@jupyter-widgets/base",
          "model_name": "LayoutModel",
          "model_module_version": "1.2.0",
          "state": {
            "_model_module": "@jupyter-widgets/base",
            "_model_module_version": "1.2.0",
            "_model_name": "LayoutModel",
            "_view_count": null,
            "_view_module": "@jupyter-widgets/base",
            "_view_module_version": "1.2.0",
            "_view_name": "LayoutView",
            "align_content": null,
            "align_items": null,
            "align_self": null,
            "border": null,
            "bottom": null,
            "display": null,
            "flex": null,
            "flex_flow": null,
            "grid_area": null,
            "grid_auto_columns": null,
            "grid_auto_flow": null,
            "grid_auto_rows": null,
            "grid_column": null,
            "grid_gap": null,
            "grid_row": null,
            "grid_template_areas": null,
            "grid_template_columns": null,
            "grid_template_rows": null,
            "height": null,
            "justify_content": null,
            "justify_items": null,
            "left": null,
            "margin": null,
            "max_height": null,
            "max_width": null,
            "min_height": null,
            "min_width": null,
            "object_fit": null,
            "object_position": null,
            "order": null,
            "overflow": null,
            "overflow_x": null,
            "overflow_y": null,
            "padding": null,
            "right": null,
            "top": null,
            "visibility": null,
            "width": null
          }
        },
        "6f3e7bb1f7b94aa1a3725f169f25e119": {
          "model_module": "@jupyter-widgets/base",
          "model_name": "LayoutModel",
          "model_module_version": "1.2.0",
          "state": {
            "_model_module": "@jupyter-widgets/base",
            "_model_module_version": "1.2.0",
            "_model_name": "LayoutModel",
            "_view_count": null,
            "_view_module": "@jupyter-widgets/base",
            "_view_module_version": "1.2.0",
            "_view_name": "LayoutView",
            "align_content": null,
            "align_items": null,
            "align_self": null,
            "border": null,
            "bottom": null,
            "display": null,
            "flex": null,
            "flex_flow": null,
            "grid_area": null,
            "grid_auto_columns": null,
            "grid_auto_flow": null,
            "grid_auto_rows": null,
            "grid_column": null,
            "grid_gap": null,
            "grid_row": null,
            "grid_template_areas": null,
            "grid_template_columns": null,
            "grid_template_rows": null,
            "height": null,
            "justify_content": null,
            "justify_items": null,
            "left": null,
            "margin": null,
            "max_height": null,
            "max_width": null,
            "min_height": null,
            "min_width": null,
            "object_fit": null,
            "object_position": null,
            "order": null,
            "overflow": null,
            "overflow_x": null,
            "overflow_y": null,
            "padding": null,
            "right": null,
            "top": null,
            "visibility": null,
            "width": null
          }
        },
        "cf203461f7064007a20c1b2a0709092b": {
          "model_module": "@jupyter-widgets/controls",
          "model_name": "DescriptionStyleModel",
          "model_module_version": "1.5.0",
          "state": {
            "_model_module": "@jupyter-widgets/controls",
            "_model_module_version": "1.5.0",
            "_model_name": "DescriptionStyleModel",
            "_view_count": null,
            "_view_module": "@jupyter-widgets/base",
            "_view_module_version": "1.2.0",
            "_view_name": "StyleView",
            "description_width": ""
          }
        },
        "389867d4b48b4752a0ec5a4a86da11f7": {
          "model_module": "@jupyter-widgets/base",
          "model_name": "LayoutModel",
          "model_module_version": "1.2.0",
          "state": {
            "_model_module": "@jupyter-widgets/base",
            "_model_module_version": "1.2.0",
            "_model_name": "LayoutModel",
            "_view_count": null,
            "_view_module": "@jupyter-widgets/base",
            "_view_module_version": "1.2.0",
            "_view_name": "LayoutView",
            "align_content": null,
            "align_items": null,
            "align_self": null,
            "border": null,
            "bottom": null,
            "display": null,
            "flex": null,
            "flex_flow": null,
            "grid_area": null,
            "grid_auto_columns": null,
            "grid_auto_flow": null,
            "grid_auto_rows": null,
            "grid_column": null,
            "grid_gap": null,
            "grid_row": null,
            "grid_template_areas": null,
            "grid_template_columns": null,
            "grid_template_rows": null,
            "height": null,
            "justify_content": null,
            "justify_items": null,
            "left": null,
            "margin": null,
            "max_height": null,
            "max_width": null,
            "min_height": null,
            "min_width": null,
            "object_fit": null,
            "object_position": null,
            "order": null,
            "overflow": null,
            "overflow_x": null,
            "overflow_y": null,
            "padding": null,
            "right": null,
            "top": null,
            "visibility": null,
            "width": null
          }
        },
        "4d5878d4c57c47fca2f62d2c6e846305": {
          "model_module": "@jupyter-widgets/controls",
          "model_name": "ProgressStyleModel",
          "model_module_version": "1.5.0",
          "state": {
            "_model_module": "@jupyter-widgets/controls",
            "_model_module_version": "1.5.0",
            "_model_name": "ProgressStyleModel",
            "_view_count": null,
            "_view_module": "@jupyter-widgets/base",
            "_view_module_version": "1.2.0",
            "_view_name": "StyleView",
            "bar_color": null,
            "description_width": ""
          }
        },
        "598987a470cd4993b577b0755b6eb340": {
          "model_module": "@jupyter-widgets/base",
          "model_name": "LayoutModel",
          "model_module_version": "1.2.0",
          "state": {
            "_model_module": "@jupyter-widgets/base",
            "_model_module_version": "1.2.0",
            "_model_name": "LayoutModel",
            "_view_count": null,
            "_view_module": "@jupyter-widgets/base",
            "_view_module_version": "1.2.0",
            "_view_name": "LayoutView",
            "align_content": null,
            "align_items": null,
            "align_self": null,
            "border": null,
            "bottom": null,
            "display": null,
            "flex": null,
            "flex_flow": null,
            "grid_area": null,
            "grid_auto_columns": null,
            "grid_auto_flow": null,
            "grid_auto_rows": null,
            "grid_column": null,
            "grid_gap": null,
            "grid_row": null,
            "grid_template_areas": null,
            "grid_template_columns": null,
            "grid_template_rows": null,
            "height": null,
            "justify_content": null,
            "justify_items": null,
            "left": null,
            "margin": null,
            "max_height": null,
            "max_width": null,
            "min_height": null,
            "min_width": null,
            "object_fit": null,
            "object_position": null,
            "order": null,
            "overflow": null,
            "overflow_x": null,
            "overflow_y": null,
            "padding": null,
            "right": null,
            "top": null,
            "visibility": null,
            "width": null
          }
        },
        "22396a2e4e144472976f234662a48abb": {
          "model_module": "@jupyter-widgets/controls",
          "model_name": "DescriptionStyleModel",
          "model_module_version": "1.5.0",
          "state": {
            "_model_module": "@jupyter-widgets/controls",
            "_model_module_version": "1.5.0",
            "_model_name": "DescriptionStyleModel",
            "_view_count": null,
            "_view_module": "@jupyter-widgets/base",
            "_view_module_version": "1.2.0",
            "_view_name": "StyleView",
            "description_width": ""
          }
        },
        "7c3af02ad18545f59d3e260a388092eb": {
          "model_module": "@jupyter-widgets/controls",
          "model_name": "HBoxModel",
          "model_module_version": "1.5.0",
          "state": {
            "_dom_classes": [],
            "_model_module": "@jupyter-widgets/controls",
            "_model_module_version": "1.5.0",
            "_model_name": "HBoxModel",
            "_view_count": null,
            "_view_module": "@jupyter-widgets/controls",
            "_view_module_version": "1.5.0",
            "_view_name": "HBoxView",
            "box_style": "",
            "children": [
              "IPY_MODEL_7b6b58349c7d4cc5b2254191c7fc01b3",
              "IPY_MODEL_c140591997544f8a85953d1a711f7589",
              "IPY_MODEL_6a89c15b18fb4b59bfb29673b6f1f9a9"
            ],
            "layout": "IPY_MODEL_c1fda5e557a041929ffdbd8d71588ce7"
          }
        },
        "7b6b58349c7d4cc5b2254191c7fc01b3": {
          "model_module": "@jupyter-widgets/controls",
          "model_name": "HTMLModel",
          "model_module_version": "1.5.0",
          "state": {
            "_dom_classes": [],
            "_model_module": "@jupyter-widgets/controls",
            "_model_module_version": "1.5.0",
            "_model_name": "HTMLModel",
            "_view_count": null,
            "_view_module": "@jupyter-widgets/controls",
            "_view_module_version": "1.5.0",
            "_view_name": "HTMLView",
            "description": "",
            "description_tooltip": null,
            "layout": "IPY_MODEL_b1febb17d24a476e8555ae18c0da82a2",
            "placeholder": "​",
            "style": "IPY_MODEL_f117dd61a8944dfb989a295904d1d8b2",
            "value": "Generating test split: 100%"
          }
        },
        "c140591997544f8a85953d1a711f7589": {
          "model_module": "@jupyter-widgets/controls",
          "model_name": "FloatProgressModel",
          "model_module_version": "1.5.0",
          "state": {
            "_dom_classes": [],
            "_model_module": "@jupyter-widgets/controls",
            "_model_module_version": "1.5.0",
            "_model_name": "FloatProgressModel",
            "_view_count": null,
            "_view_module": "@jupyter-widgets/controls",
            "_view_module_version": "1.5.0",
            "_view_name": "ProgressView",
            "bar_style": "success",
            "description": "",
            "description_tooltip": null,
            "layout": "IPY_MODEL_714ab835c5804c37a19c49e5e96eec8d",
            "max": 5622,
            "min": 0,
            "orientation": "horizontal",
            "style": "IPY_MODEL_d6136231d4c04f0b9b613df5059d724f",
            "value": 5622
          }
        },
        "6a89c15b18fb4b59bfb29673b6f1f9a9": {
          "model_module": "@jupyter-widgets/controls",
          "model_name": "HTMLModel",
          "model_module_version": "1.5.0",
          "state": {
            "_dom_classes": [],
            "_model_module": "@jupyter-widgets/controls",
            "_model_module_version": "1.5.0",
            "_model_name": "HTMLModel",
            "_view_count": null,
            "_view_module": "@jupyter-widgets/controls",
            "_view_module_version": "1.5.0",
            "_view_name": "HTMLView",
            "description": "",
            "description_tooltip": null,
            "layout": "IPY_MODEL_bfa8c5b1848749d3b4fe739f9a06c063",
            "placeholder": "​",
            "style": "IPY_MODEL_5b567fe341b94561b70c7fc6189cc21a",
            "value": " 5622/5622 [00:00&lt;00:00, 17725.12 examples/s]"
          }
        },
        "c1fda5e557a041929ffdbd8d71588ce7": {
          "model_module": "@jupyter-widgets/base",
          "model_name": "LayoutModel",
          "model_module_version": "1.2.0",
          "state": {
            "_model_module": "@jupyter-widgets/base",
            "_model_module_version": "1.2.0",
            "_model_name": "LayoutModel",
            "_view_count": null,
            "_view_module": "@jupyter-widgets/base",
            "_view_module_version": "1.2.0",
            "_view_name": "LayoutView",
            "align_content": null,
            "align_items": null,
            "align_self": null,
            "border": null,
            "bottom": null,
            "display": null,
            "flex": null,
            "flex_flow": null,
            "grid_area": null,
            "grid_auto_columns": null,
            "grid_auto_flow": null,
            "grid_auto_rows": null,
            "grid_column": null,
            "grid_gap": null,
            "grid_row": null,
            "grid_template_areas": null,
            "grid_template_columns": null,
            "grid_template_rows": null,
            "height": null,
            "justify_content": null,
            "justify_items": null,
            "left": null,
            "margin": null,
            "max_height": null,
            "max_width": null,
            "min_height": null,
            "min_width": null,
            "object_fit": null,
            "object_position": null,
            "order": null,
            "overflow": null,
            "overflow_x": null,
            "overflow_y": null,
            "padding": null,
            "right": null,
            "top": null,
            "visibility": null,
            "width": null
          }
        },
        "b1febb17d24a476e8555ae18c0da82a2": {
          "model_module": "@jupyter-widgets/base",
          "model_name": "LayoutModel",
          "model_module_version": "1.2.0",
          "state": {
            "_model_module": "@jupyter-widgets/base",
            "_model_module_version": "1.2.0",
            "_model_name": "LayoutModel",
            "_view_count": null,
            "_view_module": "@jupyter-widgets/base",
            "_view_module_version": "1.2.0",
            "_view_name": "LayoutView",
            "align_content": null,
            "align_items": null,
            "align_self": null,
            "border": null,
            "bottom": null,
            "display": null,
            "flex": null,
            "flex_flow": null,
            "grid_area": null,
            "grid_auto_columns": null,
            "grid_auto_flow": null,
            "grid_auto_rows": null,
            "grid_column": null,
            "grid_gap": null,
            "grid_row": null,
            "grid_template_areas": null,
            "grid_template_columns": null,
            "grid_template_rows": null,
            "height": null,
            "justify_content": null,
            "justify_items": null,
            "left": null,
            "margin": null,
            "max_height": null,
            "max_width": null,
            "min_height": null,
            "min_width": null,
            "object_fit": null,
            "object_position": null,
            "order": null,
            "overflow": null,
            "overflow_x": null,
            "overflow_y": null,
            "padding": null,
            "right": null,
            "top": null,
            "visibility": null,
            "width": null
          }
        },
        "f117dd61a8944dfb989a295904d1d8b2": {
          "model_module": "@jupyter-widgets/controls",
          "model_name": "DescriptionStyleModel",
          "model_module_version": "1.5.0",
          "state": {
            "_model_module": "@jupyter-widgets/controls",
            "_model_module_version": "1.5.0",
            "_model_name": "DescriptionStyleModel",
            "_view_count": null,
            "_view_module": "@jupyter-widgets/base",
            "_view_module_version": "1.2.0",
            "_view_name": "StyleView",
            "description_width": ""
          }
        },
        "714ab835c5804c37a19c49e5e96eec8d": {
          "model_module": "@jupyter-widgets/base",
          "model_name": "LayoutModel",
          "model_module_version": "1.2.0",
          "state": {
            "_model_module": "@jupyter-widgets/base",
            "_model_module_version": "1.2.0",
            "_model_name": "LayoutModel",
            "_view_count": null,
            "_view_module": "@jupyter-widgets/base",
            "_view_module_version": "1.2.0",
            "_view_name": "LayoutView",
            "align_content": null,
            "align_items": null,
            "align_self": null,
            "border": null,
            "bottom": null,
            "display": null,
            "flex": null,
            "flex_flow": null,
            "grid_area": null,
            "grid_auto_columns": null,
            "grid_auto_flow": null,
            "grid_auto_rows": null,
            "grid_column": null,
            "grid_gap": null,
            "grid_row": null,
            "grid_template_areas": null,
            "grid_template_columns": null,
            "grid_template_rows": null,
            "height": null,
            "justify_content": null,
            "justify_items": null,
            "left": null,
            "margin": null,
            "max_height": null,
            "max_width": null,
            "min_height": null,
            "min_width": null,
            "object_fit": null,
            "object_position": null,
            "order": null,
            "overflow": null,
            "overflow_x": null,
            "overflow_y": null,
            "padding": null,
            "right": null,
            "top": null,
            "visibility": null,
            "width": null
          }
        },
        "d6136231d4c04f0b9b613df5059d724f": {
          "model_module": "@jupyter-widgets/controls",
          "model_name": "ProgressStyleModel",
          "model_module_version": "1.5.0",
          "state": {
            "_model_module": "@jupyter-widgets/controls",
            "_model_module_version": "1.5.0",
            "_model_name": "ProgressStyleModel",
            "_view_count": null,
            "_view_module": "@jupyter-widgets/base",
            "_view_module_version": "1.2.0",
            "_view_name": "StyleView",
            "bar_color": null,
            "description_width": ""
          }
        },
        "bfa8c5b1848749d3b4fe739f9a06c063": {
          "model_module": "@jupyter-widgets/base",
          "model_name": "LayoutModel",
          "model_module_version": "1.2.0",
          "state": {
            "_model_module": "@jupyter-widgets/base",
            "_model_module_version": "1.2.0",
            "_model_name": "LayoutModel",
            "_view_count": null,
            "_view_module": "@jupyter-widgets/base",
            "_view_module_version": "1.2.0",
            "_view_name": "LayoutView",
            "align_content": null,
            "align_items": null,
            "align_self": null,
            "border": null,
            "bottom": null,
            "display": null,
            "flex": null,
            "flex_flow": null,
            "grid_area": null,
            "grid_auto_columns": null,
            "grid_auto_flow": null,
            "grid_auto_rows": null,
            "grid_column": null,
            "grid_gap": null,
            "grid_row": null,
            "grid_template_areas": null,
            "grid_template_columns": null,
            "grid_template_rows": null,
            "height": null,
            "justify_content": null,
            "justify_items": null,
            "left": null,
            "margin": null,
            "max_height": null,
            "max_width": null,
            "min_height": null,
            "min_width": null,
            "object_fit": null,
            "object_position": null,
            "order": null,
            "overflow": null,
            "overflow_x": null,
            "overflow_y": null,
            "padding": null,
            "right": null,
            "top": null,
            "visibility": null,
            "width": null
          }
        },
        "5b567fe341b94561b70c7fc6189cc21a": {
          "model_module": "@jupyter-widgets/controls",
          "model_name": "DescriptionStyleModel",
          "model_module_version": "1.5.0",
          "state": {
            "_model_module": "@jupyter-widgets/controls",
            "_model_module_version": "1.5.0",
            "_model_name": "DescriptionStyleModel",
            "_view_count": null,
            "_view_module": "@jupyter-widgets/base",
            "_view_module_version": "1.2.0",
            "_view_name": "StyleView",
            "description_width": ""
          }
        }
      }
    }
  },
  "nbformat": 4,
  "nbformat_minor": 0
}